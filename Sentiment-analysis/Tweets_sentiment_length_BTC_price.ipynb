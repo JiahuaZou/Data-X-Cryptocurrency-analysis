{
 "cells": [
  {
   "cell_type": "markdown",
   "metadata": {},
   "source": [
    "# Data-X Project"
   ]
  },
  {
   "cell_type": "code",
   "execution_count": 247,
   "metadata": {
    "scrolled": false
   },
   "outputs": [
    {
     "name": "stderr",
     "output_type": "stream",
     "text": [
      "/srv/app/venv/lib/python3.6/site-packages/statsmodels/compat/pandas.py:56: FutureWarning: The pandas.core.datetools module is deprecated and will be removed in a future version. Please use the pandas.tseries module instead.\n",
      "  from pandas.core import datetools\n"
     ]
    },
    {
     "name": "stdout",
     "output_type": "stream",
     "text": [
      "[nltk_data] Downloading package wordnet to /srv/app/nltk_data...\n",
      "[nltk_data]   Package wordnet is already up-to-date!\n"
     ]
    }
   ],
   "source": [
    "import csv\n",
    "import re\n",
    "import numpy as np\n",
    "import pandas as pd \n",
    "import seaborn as sns\n",
    "import spacy\n",
    "import nltk\n",
    "import statsmodels.api as sm\n",
    "nltk.download('wordnet')\n",
    "lemmatizer = nltk.stem.WordNetLemmatizer()\n",
    "ps = nltk.PorterStemmer()\n",
    "import matplotlib.pyplot as plt\n",
    "from matplotlib import pyplot\n",
    "from nltk.corpus import stopwords\n",
    "from vaderSentiment.vaderSentiment import SentimentIntensityAnalyzer"
   ]
  },
  {
   "cell_type": "code",
   "execution_count": 3,
   "metadata": {},
   "outputs": [
    {
     "name": "stdout",
     "output_type": "stream",
     "text": [
      "Collecting vaderSentiment\n",
      "  Using cached https://files.pythonhosted.org/packages/86/9e/c53e1fc61aac5ee490a6ac5e21b1ac04e55a7c2aba647bb8411c9aadf24e/vaderSentiment-3.2.1-py2.py3-none-any.whl\n",
      "Installing collected packages: vaderSentiment\n",
      "Successfully installed vaderSentiment-3.2.1\n"
     ]
    }
   ],
   "source": [
    "! pip install vaderSentiment"
   ]
  },
  {
   "cell_type": "markdown",
   "metadata": {},
   "source": [
    "## Sentiment Analysis for Bitcoin Hashtag on Twitter"
   ]
  },
  {
   "cell_type": "markdown",
   "metadata": {},
   "source": [
    "### 1.Read the files into pandas dataframe \n",
    "\n"
   ]
  },
  {
   "cell_type": "markdown",
   "metadata": {},
   "source": [
    "The original data:\n",
    "\n",
    "Tweets 1 consists of all the cryptocurrency related tweets from Oct 20 to Oct 27, 2018. \n",
    "\n",
    "Tweets 2 consists of all the cryptocurrency related tweets from Nov 1 to Nov 9, 2018"
   ]
  },
  {
   "cell_type": "code",
   "execution_count": 154,
   "metadata": {
    "scrolled": false
   },
   "outputs": [
    {
     "data": {
      "text/html": [
       "<div>\n",
       "<style scoped>\n",
       "    .dataframe tbody tr th:only-of-type {\n",
       "        vertical-align: middle;\n",
       "    }\n",
       "\n",
       "    .dataframe tbody tr th {\n",
       "        vertical-align: top;\n",
       "    }\n",
       "\n",
       "    .dataframe thead th {\n",
       "        text-align: right;\n",
       "    }\n",
       "</style>\n",
       "<table border=\"1\" class=\"dataframe\">\n",
       "  <thead>\n",
       "    <tr style=\"text-align: right;\">\n",
       "      <th></th>\n",
       "      <th>Author</th>\n",
       "      <th>Text</th>\n",
       "      <th>Retweet_Count</th>\n",
       "      <th>Timestamp</th>\n",
       "    </tr>\n",
       "  </thead>\n",
       "  <tbody>\n",
       "    <tr>\n",
       "      <th>0</th>\n",
       "      <td>ewin74698177</td>\n",
       "      <td>RT @SolarisCoin: Take a peek @ https://t.co/W8...</td>\n",
       "      <td>49</td>\n",
       "      <td>2018-10-27 23:25:41</td>\n",
       "    </tr>\n",
       "    <tr>\n",
       "      <th>1</th>\n",
       "      <td>thegustians</td>\n",
       "      <td>RT @SolarisCoin: Take a peek @ https://t.co/W8...</td>\n",
       "      <td>49</td>\n",
       "      <td>2018-10-27 23:10:20</td>\n",
       "    </tr>\n",
       "    <tr>\n",
       "      <th>2</th>\n",
       "      <td>frg_x</td>\n",
       "      <td>RT @SolarisCoin: Take a peek @ https://t.co/W8...</td>\n",
       "      <td>49</td>\n",
       "      <td>2018-10-27 23:07:04</td>\n",
       "    </tr>\n",
       "    <tr>\n",
       "      <th>3</th>\n",
       "      <td>TechniCraftCZ</td>\n",
       "      <td>RT @CryptoPepes: CryptoPepes just soft launche...</td>\n",
       "      <td>93</td>\n",
       "      <td>2018-10-27 23:02:48</td>\n",
       "    </tr>\n",
       "    <tr>\n",
       "      <th>4</th>\n",
       "      <td>victordorofeev1</td>\n",
       "      <td>RT @SolarisCoin: Take a peek @ https://t.co/W8...</td>\n",
       "      <td>49</td>\n",
       "      <td>2018-10-27 23:01:47</td>\n",
       "    </tr>\n",
       "  </tbody>\n",
       "</table>\n",
       "</div>"
      ],
      "text/plain": [
       "            Author                                               Text  \\\n",
       "0     ewin74698177  RT @SolarisCoin: Take a peek @ https://t.co/W8...   \n",
       "1      thegustians  RT @SolarisCoin: Take a peek @ https://t.co/W8...   \n",
       "2            frg_x  RT @SolarisCoin: Take a peek @ https://t.co/W8...   \n",
       "3    TechniCraftCZ  RT @CryptoPepes: CryptoPepes just soft launche...   \n",
       "4  victordorofeev1  RT @SolarisCoin: Take a peek @ https://t.co/W8...   \n",
       "\n",
       "   Retweet_Count            Timestamp  \n",
       "0             49  2018-10-27 23:25:41  \n",
       "1             49  2018-10-27 23:10:20  \n",
       "2             49  2018-10-27 23:07:04  \n",
       "3             93  2018-10-27 23:02:48  \n",
       "4             49  2018-10-27 23:01:47  "
      ]
     },
     "execution_count": 154,
     "metadata": {},
     "output_type": "execute_result"
    }
   ],
   "source": [
    "tweets1 = pd.read_csv(\"bitcoin.csv\")[['Author', 'Text', 'Retweet_Count', 'Timestamp']]\n",
    "tweets1.head()"
   ]
  },
  {
   "cell_type": "code",
   "execution_count": 155,
   "metadata": {},
   "outputs": [
    {
     "data": {
      "text/html": [
       "<div>\n",
       "<style scoped>\n",
       "    .dataframe tbody tr th:only-of-type {\n",
       "        vertical-align: middle;\n",
       "    }\n",
       "\n",
       "    .dataframe tbody tr th {\n",
       "        vertical-align: top;\n",
       "    }\n",
       "\n",
       "    .dataframe thead th {\n",
       "        text-align: right;\n",
       "    }\n",
       "</style>\n",
       "<table border=\"1\" class=\"dataframe\">\n",
       "  <thead>\n",
       "    <tr style=\"text-align: right;\">\n",
       "      <th></th>\n",
       "      <th>Author</th>\n",
       "      <th>Text</th>\n",
       "      <th>Retweet_Count</th>\n",
       "      <th>Timestamp</th>\n",
       "    </tr>\n",
       "  </thead>\n",
       "  <tbody>\n",
       "    <tr>\n",
       "      <th>0</th>\n",
       "      <td>Sharp_or_Parish</td>\n",
       "      <td>Booooommmmmmm!\\r\\n\\r\\n4th POD HAMMER BOMB to t...</td>\n",
       "      <td>0</td>\n",
       "      <td>2018-11-09 06:13:30</td>\n",
       "    </tr>\n",
       "    <tr>\n",
       "      <th>1</th>\n",
       "      <td>T45Investments</td>\n",
       "      <td>5.00 GMT Update!\\r\\n#trading #futures #commodi...</td>\n",
       "      <td>0</td>\n",
       "      <td>2018-11-09 06:03:09</td>\n",
       "    </tr>\n",
       "    <tr>\n",
       "      <th>2</th>\n",
       "      <td>ArbingTool</td>\n",
       "      <td>#DASH\\r\\nBuy at #Koinim and sell at #YoBit. Ra...</td>\n",
       "      <td>0</td>\n",
       "      <td>2018-11-09 06:01:30</td>\n",
       "    </tr>\n",
       "    <tr>\n",
       "      <th>3</th>\n",
       "      <td>ArbingTool</td>\n",
       "      <td>#ETH\\r\\nBuy at #Bitstamp and sell at #Bittrex....</td>\n",
       "      <td>0</td>\n",
       "      <td>2018-11-09 06:01:21</td>\n",
       "    </tr>\n",
       "    <tr>\n",
       "      <th>4</th>\n",
       "      <td>ArbingTool</td>\n",
       "      <td>#XRP\\r\\nBuy at #Bitstamp and sell at #Bitfinex...</td>\n",
       "      <td>0</td>\n",
       "      <td>2018-11-09 06:01:12</td>\n",
       "    </tr>\n",
       "  </tbody>\n",
       "</table>\n",
       "</div>"
      ],
      "text/plain": [
       "            Author                                               Text  \\\n",
       "0  Sharp_or_Parish  Booooommmmmmm!\\r\\n\\r\\n4th POD HAMMER BOMB to t...   \n",
       "1   T45Investments  5.00 GMT Update!\\r\\n#trading #futures #commodi...   \n",
       "2       ArbingTool  #DASH\\r\\nBuy at #Koinim and sell at #YoBit. Ra...   \n",
       "3       ArbingTool  #ETH\\r\\nBuy at #Bitstamp and sell at #Bittrex....   \n",
       "4       ArbingTool  #XRP\\r\\nBuy at #Bitstamp and sell at #Bitfinex...   \n",
       "\n",
       "   Retweet_Count            Timestamp  \n",
       "0              0  2018-11-09 06:13:30  \n",
       "1              0  2018-11-09 06:03:09  \n",
       "2              0  2018-11-09 06:01:30  \n",
       "3              0  2018-11-09 06:01:21  \n",
       "4              0  2018-11-09 06:01:12  "
      ]
     },
     "execution_count": 155,
     "metadata": {},
     "output_type": "execute_result"
    }
   ],
   "source": [
    "tweets2 = pd.read_csv('bitcointweets.csv')[['Author', 'Text', 'Retweet_Count', 'Timestamp']]\n",
    "tweets2.head()"
   ]
  },
  {
   "cell_type": "markdown",
   "metadata": {},
   "source": [
    "### 2. Data cleaning function: \n",
    "Remove urls, mentions, punctuations and stopwords"
   ]
  },
  {
   "cell_type": "code",
   "execution_count": 8,
   "metadata": {},
   "outputs": [],
   "source": [
    "class CleanText():\n",
    "    \n",
    "    def __init__(self, input_text):\n",
    "        self.input_text = input_text\n",
    "    \n",
    "    def remove(self):\n",
    "        remove_mention = re.sub(r'@\\w+', '', self.input_text)\n",
    "        remove_url = re.sub(r'http.?://[^\\s]+[\\s]?', '', remove_mention)\n",
    "        # By compressing the underscore, the emoji is kept as one word\n",
    "        remove_emoji = remove_url.replace('_','')\n",
    "        remove_punctuation = re.sub('[^A-Za-z0-9_\\s]', '', remove_emoji)\n",
    "        lowercase = remove_punctuation.lower()\n",
    "        remove_n = re.sub('[\\n\\r]', '', lowercase)\n",
    "        remove_num = re.sub('[[:digit:]]', '', remove_n)\n",
    "        \n",
    "        return remove_num.replace('rt', '')"
   ]
  },
  {
   "cell_type": "code",
   "execution_count": 114,
   "metadata": {
    "scrolled": false
   },
   "outputs": [
    {
     "data": {
      "text/html": [
       "<div>\n",
       "<style scoped>\n",
       "    .dataframe tbody tr th:only-of-type {\n",
       "        vertical-align: middle;\n",
       "    }\n",
       "\n",
       "    .dataframe tbody tr th {\n",
       "        vertical-align: top;\n",
       "    }\n",
       "\n",
       "    .dataframe thead th {\n",
       "        text-align: right;\n",
       "    }\n",
       "</style>\n",
       "<table border=\"1\" class=\"dataframe\">\n",
       "  <thead>\n",
       "    <tr style=\"text-align: right;\">\n",
       "      <th></th>\n",
       "      <th>Author</th>\n",
       "      <th>Retweet_Count</th>\n",
       "      <th>Timestamp</th>\n",
       "      <th>Clean_Text</th>\n",
       "    </tr>\n",
       "  </thead>\n",
       "  <tbody>\n",
       "    <tr>\n",
       "      <th>49</th>\n",
       "      <td>CryptoPriceBot_</td>\n",
       "      <td>0</td>\n",
       "      <td>2018-11-08 23:59:56</td>\n",
       "      <td>btcethxrplast 648000 21278 050high 659400 2207...</td>\n",
       "    </tr>\n",
       "    <tr>\n",
       "      <th>50</th>\n",
       "      <td>coinok</td>\n",
       "      <td>0</td>\n",
       "      <td>2018-11-08 23:30:04</td>\n",
       "      <td>1 btc price bitstamp 640094 usd coinbase 64050...</td>\n",
       "    </tr>\n",
       "    <tr>\n",
       "      <th>51</th>\n",
       "      <td>pattern_crypto</td>\n",
       "      <td>0</td>\n",
       "      <td>2018-11-08 23:15:12</td>\n",
       "      <td>btc volume spike 43 coin print at 640400  btcu...</td>\n",
       "    </tr>\n",
       "    <tr>\n",
       "      <th>52</th>\n",
       "      <td>ArbingTool</td>\n",
       "      <td>0</td>\n",
       "      <td>2018-11-08 23:01:22</td>\n",
       "      <td>bchbuy at koineks and sell at yobit ratio 428b...</td>\n",
       "    </tr>\n",
       "    <tr>\n",
       "      <th>53</th>\n",
       "      <td>ArbingTool</td>\n",
       "      <td>0</td>\n",
       "      <td>2018-11-08 23:01:13</td>\n",
       "      <td>btcbuy at btcturk and sell at binance ratio 10...</td>\n",
       "    </tr>\n",
       "  </tbody>\n",
       "</table>\n",
       "</div>"
      ],
      "text/plain": [
       "             Author  Retweet_Count            Timestamp  \\\n",
       "49  CryptoPriceBot_              0  2018-11-08 23:59:56   \n",
       "50           coinok              0  2018-11-08 23:30:04   \n",
       "51   pattern_crypto              0  2018-11-08 23:15:12   \n",
       "52       ArbingTool              0  2018-11-08 23:01:22   \n",
       "53       ArbingTool              0  2018-11-08 23:01:13   \n",
       "\n",
       "                                           Clean_Text  \n",
       "49  btcethxrplast 648000 21278 050high 659400 2207...  \n",
       "50  1 btc price bitstamp 640094 usd coinbase 64050...  \n",
       "51  btc volume spike 43 coin print at 640400  btcu...  \n",
       "52  bchbuy at koineks and sell at yobit ratio 428b...  \n",
       "53  btcbuy at btcturk and sell at binance ratio 10...  "
      ]
     },
     "execution_count": 114,
     "metadata": {},
     "output_type": "execute_result"
    }
   ],
   "source": [
    "clean_tweet1 = []\n",
    "for tweet in tweets1['Text']:\n",
    "    clean_tweet1.append(CleanText(tweet).remove())\n",
    "    \n",
    "clean_tweets1 = tweets1.drop(['Text'], axis = 1)\n",
    "clean_tweets1['Clean_Text'] = clean_tweet1\n",
    "clean_tweets1.head()\n",
    "\n",
    "clean_tweet2 = []\n",
    "for tweet in tweets2['Text']:\n",
    "    clean_tweet2.append(CleanText(tweet).remove())\n",
    "    \n",
    "clean_tweets2 = tweets2.drop(['Text'], axis = 1)\n",
    "clean_tweets2['Clean_Text'] = clean_tweet2\n",
    "clean_tweets2 = clean_tweets2[49:] #only selecting a one-week period: Nov 1 - 8.\n",
    "clean_tweets2.head()"
   ]
  },
  {
   "cell_type": "markdown",
   "metadata": {},
   "source": [
    "### 3. Sentiment analysis\n",
    "\n",
    "We will look at the compound score for each sentence."
   ]
  },
  {
   "cell_type": "code",
   "execution_count": 116,
   "metadata": {},
   "outputs": [],
   "source": [
    "analyzer = SentimentIntensityAnalyzer()\n",
    "\n",
    "score1 = []\n",
    "for sentence in clean_tweets1['Clean_Text']:\n",
    "    score1.append(analyzer.polarity_scores(sentence))\n",
    "\n",
    "sentiment1 = []\n",
    "for each in score1:\n",
    "    sentiment1.append(each['compound'])\n",
    "clean_tweets1['compound'] = sentiment1\n",
    "\n",
    "score2 = []\n",
    "for sentence in clean_tweets2['Clean_Text']:\n",
    "    score2.append(analyzer.polarity_scores(sentence))\n",
    "\n",
    "sentiment2 = []\n",
    "for each in score2:\n",
    "    sentiment2.append(each['compound'])\n",
    "clean_tweets2['compound'] = sentiment2"
   ]
  },
  {
   "cell_type": "markdown",
   "metadata": {},
   "source": [
    "The threshold for positive comment is >= 0.05, for neutral comment is > - 0.05 and for negative comment is <= -0.05.\n",
    "\n",
    "We will classify the tweets using this threshold. "
   ]
  },
  {
   "cell_type": "code",
   "execution_count": 117,
   "metadata": {},
   "outputs": [],
   "source": [
    "comment_class = []\n",
    "for score in clean_tweets1['compound']:\n",
    "    if score <= -0.05:\n",
    "        comment_class.append('Negative')\n",
    "    elif score >= 0.05:\n",
    "        comment_class.append('Positive')\n",
    "    else:\n",
    "        comment_class.append('Neutral')\n",
    "clean_tweets1['type'] = comment_class\n",
    "\n",
    "comment_class = []\n",
    "for score in clean_tweets2['compound']:\n",
    "    if score <= -0.05:\n",
    "        comment_class.append('Negative')\n",
    "    elif score >= 0.05:\n",
    "        comment_class.append('Positive')\n",
    "    else:\n",
    "        comment_class.append('Neutral')\n",
    "clean_tweets2['type'] = comment_class"
   ]
  },
  {
   "cell_type": "markdown",
   "metadata": {},
   "source": [
    "### 4. Compute length of each tweets and write both of them to csv file"
   ]
  },
  {
   "cell_type": "code",
   "execution_count": 118,
   "metadata": {},
   "outputs": [],
   "source": [
    "clean_tweets1['text_len'] = [len(text) for text in clean_tweets1['Clean_Text']]\n",
    "x1 = clean_tweets1[['compound', 'text_len']]\n",
    "x1.to_csv('x1.csv')\n",
    "clean_tweets2['text_len'] = [len(text) for text in clean_tweets2['Clean_Text']]\n",
    "x2 = clean_tweets2[['compound', 'text_len']]\n",
    "x2.to_csv('x2.csv')"
   ]
  },
  {
   "cell_type": "markdown",
   "metadata": {},
   "source": [
    "### *Since R studio has better packages for statistical analysis, I will perform the hypothesis testing part of my analysis in R and please look at the R file for reference. "
   ]
  },
  {
   "cell_type": "markdown",
   "metadata": {},
   "source": [
    "### 5. Statistical  Facts"
   ]
  },
  {
   "cell_type": "code",
   "execution_count": 122,
   "metadata": {},
   "outputs": [
    {
     "name": "stdout",
     "output_type": "stream",
     "text": [
      "Average Compound Score, Oct 20-27:  0.07347113402061857\n",
      "Average Compound Score, Nov 1-9:  0.258245450470641\n",
      "On average period x2 slightly more positive than the previous time period\n"
     ]
    }
   ],
   "source": [
    "comp_mean1 = np.mean(clean_tweets1['compound'])\n",
    "print('Average Compound Score, Oct 20-27: ', comp_mean1)\n",
    "comp_mean2 = np.mean(clean_tweets2['compound'])\n",
    "print('Average Compound Score, Nov 1-9: ', comp_mean2)\n",
    "print('On average period x2 slightly more positive than the previous time period')"
   ]
  },
  {
   "cell_type": "code",
   "execution_count": 123,
   "metadata": {},
   "outputs": [
    {
     "name": "stdout",
     "output_type": "stream",
     "text": [
      "Standard deviation for compound score, Oct 20-27:  0.23609588540442542\n",
      "Standard deviation for compound score, Nov 1-9:  0.344639700863988\n",
      "Period 2 had more spread out compound score than that in period 1\n"
     ]
    }
   ],
   "source": [
    "sd1 = np.std(clean_tweets1['compound'])\n",
    "print('Standard deviation for compound score, Oct 20-27: ', sd1)\n",
    "sd2 = np.std(clean_tweets2['compound'])\n",
    "print('Standard deviation for compound score, Nov 1-9: ', sd2)\n",
    "print('Period 2 had more spread out compound score than that in period 1')"
   ]
  },
  {
   "cell_type": "code",
   "execution_count": 124,
   "metadata": {
    "scrolled": true
   },
   "outputs": [
    {
     "name": "stdout",
     "output_type": "stream",
     "text": [
      "Average Tweet length, Oct 20-27:  95.90500736377025\n",
      "Average Tweet length, Nov 1-9:  99.8695652173913\n",
      "On average period 2 slightly had more lengthy tweets than the period 1 had\n"
     ]
    }
   ],
   "source": [
    "len_mean1 = np.mean(clean_tweets1['text_len'])\n",
    "print('Average Tweet length, Oct 20-27: ', len_mean1)\n",
    "len_mean2 = np.mean(clean_tweets2['text_len'])\n",
    "print('Average Tweet length, Nov 1-9: ', len_mean2)\n",
    "print('On average period 2 slightly had more lengthy tweets than the period 1 had')"
   ]
  },
  {
   "cell_type": "code",
   "execution_count": 125,
   "metadata": {
    "scrolled": true
   },
   "outputs": [
    {
     "name": "stdout",
     "output_type": "stream",
     "text": [
      "Standard deviation for Tweet length, Oct 20-27:  14.195737343513139\n",
      "Standard deviation for Tweet length, Nov 1-9:  15.03912488212654\n",
      "Period 2 had more spread out Tweet length than that in period 1\n"
     ]
    }
   ],
   "source": [
    "sd_mean1 = np.std(clean_tweets1['text_len'])\n",
    "print('Standard deviation for Tweet length, Oct 20-27: ', sd_mean1)\n",
    "sd_mean2 = np.std(clean_tweets2['text_len'])\n",
    "print('Standard deviation for Tweet length, Nov 1-9: ', sd_mean2)\n",
    "print('Period 2 had more spread out Tweet length than that in period 1')"
   ]
  },
  {
   "cell_type": "markdown",
   "metadata": {},
   "source": [
    "Just by looking at these stats, we observe that generally period 2 has more positive compound sentiment tweets and more length tweets, and the distribution of its compound sentiment score and length tweets has more variability. "
   ]
  },
  {
   "cell_type": "code",
   "execution_count": 126,
   "metadata": {},
   "outputs": [
    {
     "name": "stderr",
     "output_type": "stream",
     "text": [
      "/srv/app/venv/lib/python3.6/site-packages/ipykernel_launcher.py:6: SettingWithCopyWarning: \n",
      "A value is trying to be set on a copy of a slice from a DataFrame.\n",
      "Try using .loc[row_indexer,col_indexer] = value instead\n",
      "\n",
      "See the caveats in the documentation: http://pandas.pydata.org/pandas-docs/stable/indexing.html#indexing-view-versus-copy\n",
      "  \n",
      "/srv/app/venv/lib/python3.6/site-packages/ipykernel_launcher.py:12: SettingWithCopyWarning: \n",
      "A value is trying to be set on a copy of a slice from a DataFrame.\n",
      "Try using .loc[row_indexer,col_indexer] = value instead\n",
      "\n",
      "See the caveats in the documentation: http://pandas.pydata.org/pandas-docs/stable/indexing.html#indexing-view-versus-copy\n",
      "  if sys.path[0] == '':\n",
      "/srv/app/venv/lib/python3.6/site-packages/ipykernel_launcher.py:19: SettingWithCopyWarning: \n",
      "A value is trying to be set on a copy of a slice from a DataFrame.\n",
      "Try using .loc[row_indexer,col_indexer] = value instead\n",
      "\n",
      "See the caveats in the documentation: http://pandas.pydata.org/pandas-docs/stable/indexing.html#indexing-view-versus-copy\n",
      "/srv/app/venv/lib/python3.6/site-packages/ipykernel_launcher.py:25: SettingWithCopyWarning: \n",
      "A value is trying to be set on a copy of a slice from a DataFrame.\n",
      "Try using .loc[row_indexer,col_indexer] = value instead\n",
      "\n",
      "See the caveats in the documentation: http://pandas.pydata.org/pandas-docs/stable/indexing.html#indexing-view-versus-copy\n"
     ]
    }
   ],
   "source": [
    "X1 = clean_tweets1[['Timestamp', 'compound', 'text_len']]\n",
    "clean_time = []\n",
    "for time in clean_tweets1['Timestamp']:\n",
    "    clean_time += re.findall('[0-9]{4}\\-[0-9]{2}\\-[0-9]{2}', time)\n",
    "\n",
    "X1['clean_time'] = clean_time\n",
    "X1\n",
    "\n",
    "final = []\n",
    "for time in X1['clean_time']:\n",
    "    final += re.findall('[0-9]{2}$', time)\n",
    "X1['time'] = pd.to_numeric(final)\n",
    "\n",
    "X2 = clean_tweets2[['Timestamp', 'compound', 'text_len']]\n",
    "clean_time = []\n",
    "for time in clean_tweets2['Timestamp']:\n",
    "    clean_time += re.findall('[0-9]{4}\\-[0-9]{2}\\-[0-9]{2}', time)\n",
    "\n",
    "X2['clean_time'] = clean_time\n",
    "X2\n",
    "\n",
    "final = []\n",
    "for time in X2['clean_time']:\n",
    "    final += re.findall('[0-9]{2}$', time)\n",
    "X2['time'] = pd.to_numeric(final)"
   ]
  },
  {
   "cell_type": "code",
   "execution_count": 127,
   "metadata": {},
   "outputs": [
    {
     "data": {
      "text/html": [
       "<div>\n",
       "<style scoped>\n",
       "    .dataframe tbody tr th:only-of-type {\n",
       "        vertical-align: middle;\n",
       "    }\n",
       "\n",
       "    .dataframe tbody tr th {\n",
       "        vertical-align: top;\n",
       "    }\n",
       "\n",
       "    .dataframe thead th {\n",
       "        text-align: right;\n",
       "    }\n",
       "</style>\n",
       "<table border=\"1\" class=\"dataframe\">\n",
       "  <thead>\n",
       "    <tr style=\"text-align: right;\">\n",
       "      <th></th>\n",
       "      <th>time</th>\n",
       "      <th>compound</th>\n",
       "      <th>text_len</th>\n",
       "    </tr>\n",
       "  </thead>\n",
       "  <tbody>\n",
       "    <tr>\n",
       "      <th>0</th>\n",
       "      <td>20</td>\n",
       "      <td>0.023130</td>\n",
       "      <td>95.938356</td>\n",
       "    </tr>\n",
       "    <tr>\n",
       "      <th>1</th>\n",
       "      <td>21</td>\n",
       "      <td>0.026739</td>\n",
       "      <td>96.447154</td>\n",
       "    </tr>\n",
       "    <tr>\n",
       "      <th>2</th>\n",
       "      <td>22</td>\n",
       "      <td>0.036863</td>\n",
       "      <td>95.550898</td>\n",
       "    </tr>\n",
       "    <tr>\n",
       "      <th>3</th>\n",
       "      <td>23</td>\n",
       "      <td>0.022359</td>\n",
       "      <td>94.812500</td>\n",
       "    </tr>\n",
       "    <tr>\n",
       "      <th>4</th>\n",
       "      <td>24</td>\n",
       "      <td>0.043975</td>\n",
       "      <td>94.962963</td>\n",
       "    </tr>\n",
       "    <tr>\n",
       "      <th>5</th>\n",
       "      <td>25</td>\n",
       "      <td>0.066979</td>\n",
       "      <td>96.803922</td>\n",
       "    </tr>\n",
       "    <tr>\n",
       "      <th>6</th>\n",
       "      <td>26</td>\n",
       "      <td>0.107026</td>\n",
       "      <td>94.420765</td>\n",
       "    </tr>\n",
       "    <tr>\n",
       "      <th>7</th>\n",
       "      <td>27</td>\n",
       "      <td>0.216462</td>\n",
       "      <td>98.040609</td>\n",
       "    </tr>\n",
       "  </tbody>\n",
       "</table>\n",
       "</div>"
      ],
      "text/plain": [
       "   time  compound   text_len\n",
       "0    20  0.023130  95.938356\n",
       "1    21  0.026739  96.447154\n",
       "2    22  0.036863  95.550898\n",
       "3    23  0.022359  94.812500\n",
       "4    24  0.043975  94.962963\n",
       "5    25  0.066979  96.803922\n",
       "6    26  0.107026  94.420765\n",
       "7    27  0.216462  98.040609"
      ]
     },
     "execution_count": 127,
     "metadata": {},
     "output_type": "execute_result"
    }
   ],
   "source": [
    "aggregate_X1 = X1.groupby('time').mean().reset_index()\n",
    "aggregate_X1"
   ]
  },
  {
   "cell_type": "code",
   "execution_count": 169,
   "metadata": {
    "scrolled": false
   },
   "outputs": [],
   "source": [
    "aggregate_X2 = X2.groupby('time').mean().reset_index()\n",
    "aggregate_X2.to_csv('aggregate_x2.txt')"
   ]
  },
  {
   "cell_type": "markdown",
   "metadata": {},
   "source": [
    "### Analysis of average compound sentiment score and tweet length by day"
   ]
  },
  {
   "cell_type": "code",
   "execution_count": 158,
   "metadata": {},
   "outputs": [
    {
     "data": {
      "text/plain": [
       "<matplotlib.axes._subplots.AxesSubplot at 0x7fecbf25a320>"
      ]
     },
     "execution_count": 158,
     "metadata": {},
     "output_type": "execute_result"
    },
    {
     "data": {
      "image/png": "[encoded data removed]",
      "text/plain": [
       "<Figure size 432x288 with 1 Axes>"
      ]
     },
     "metadata": {
      "needs_background": "light"
     },
     "output_type": "display_data"
    },
    {
     "data": {
      "image/png": "[encoded data removed]",
      "text/plain": [
       "<Figure size 432x288 with 1 Axes>"
      ]
     },
     "metadata": {
      "needs_background": "light"
     },
     "output_type": "display_data"
    }
   ],
   "source": [
    "aggregate_X1.plot.line(x = 'time', y = 'compound') #average sentiment compound\n",
    "aggregate_X1.plot.line(x = 'time', y = 'text_len') #average tweet length"
   ]
  },
  {
   "cell_type": "markdown",
   "metadata": {},
   "source": [
    "Referring to the linear regression analysis on compound sentiment score and tweet length, we have the slope coefficient as 0.032, and the corresponding p value is 0.14, which is too large to be used to reject the null. In this case, we can't say anything about the relationship between compound sentiment score and tweet length from Oct 20 to 27. "
   ]
  },
  {
   "cell_type": "code",
   "execution_count": 159,
   "metadata": {},
   "outputs": [
    {
     "data": {
      "text/plain": [
       "<matplotlib.axes._subplots.AxesSubplot at 0x7fecbf240048>"
      ]
     },
     "execution_count": 159,
     "metadata": {},
     "output_type": "execute_result"
    },
    {
     "data": {
      "image/png": "[encoded data removed]",
      "text/plain": [
       "<Figure size 432x288 with 1 Axes>"
      ]
     },
     "metadata": {
      "needs_background": "light"
     },
     "output_type": "display_data"
    },
    {
     "data": {
      "image/png": "[encoded data removed]",
      "text/plain": [
       "<Figure size 432x288 with 1 Axes>"
      ]
     },
     "metadata": {
      "needs_background": "light"
     },
     "output_type": "display_data"
    }
   ],
   "source": [
    "aggregate_X2.plot.line(x = 'time', y = 'compound') #average sentiment compound\n",
    "aggregate_X2.plot.line(x = 'time', y = 'text_len') #average tweet length"
   ]
  },
  {
   "cell_type": "markdown",
   "metadata": {},
   "source": [
    "According to the linear regression outcomes in R, we've found that a linear relationship can be used to describe the association between tweet length and compound sentiment score. The slope coefficient is 0.0205, the p-value is 0.011, the p-value for the F-statistic is 0.011. All of these statistics are small enough to prove that there is linearity between the length of tweets and compound sentiment score during Nov 1 and 8, that is, the more people talked about bitcoin in a single tweet is associated with the more positive the sentiment towards bitcoin."
   ]
  },
  {
   "cell_type": "markdown",
   "metadata": {},
   "source": [
    "So this leads us to ponder: what is the reason behind such linearity between tweet length and compound sentiment score? \n",
    "\n",
    "Was there any external events that impacted people's tweeting behavior and attitude towards bitcoin?\n",
    "\n",
    "##### It turned out that Nov 2nd was the 10-year-old anniversary of the creation of bitcoin. \n",
    "##### So we will definitely need external data to analyze this!"
   ]
  },
  {
   "cell_type": "markdown",
   "metadata": {},
   "source": [
    "Moving further, I collected the \"BTC price index\" data in these two periods to delve more deeply into the causation behind the linear pattern"
   ]
  },
  {
   "cell_type": "markdown",
   "metadata": {},
   "source": [
    "### BTC Price Index vs. Sentiment score in Period  2"
   ]
  },
  {
   "cell_type": "code",
   "execution_count": 243,
   "metadata": {
    "scrolled": false
   },
   "outputs": [
    {
     "data": {
      "text/html": [
       "<div>\n",
       "<style scoped>\n",
       "    .dataframe tbody tr th:only-of-type {\n",
       "        vertical-align: middle;\n",
       "    }\n",
       "\n",
       "    .dataframe tbody tr th {\n",
       "        vertical-align: top;\n",
       "    }\n",
       "\n",
       "    .dataframe thead th {\n",
       "        text-align: right;\n",
       "    }\n",
       "</style>\n",
       "<table border=\"1\" class=\"dataframe\">\n",
       "  <thead>\n",
       "    <tr style=\"text-align: right;\">\n",
       "      <th></th>\n",
       "      <th>date</th>\n",
       "      <th>high</th>\n",
       "      <th>low</th>\n",
       "      <th>opens</th>\n",
       "      <th>close</th>\n",
       "      <th>volume</th>\n",
       "      <th>day</th>\n",
       "    </tr>\n",
       "  </thead>\n",
       "  <tbody>\n",
       "    <tr>\n",
       "      <th>25</th>\n",
       "      <td>Nov 01, 2018</td>\n",
       "      <td>6547.14</td>\n",
       "      <td>6311.83</td>\n",
       "      <td>6318.14</td>\n",
       "      <td>6377.78</td>\n",
       "      <td>3.789400e+09</td>\n",
       "      <td>1</td>\n",
       "    </tr>\n",
       "    <tr>\n",
       "      <th>24</th>\n",
       "      <td>Nov 02, 2018</td>\n",
       "      <td>6396.86</td>\n",
       "      <td>6327.38</td>\n",
       "      <td>6378.92</td>\n",
       "      <td>6388.44</td>\n",
       "      <td>4.234870e+09</td>\n",
       "      <td>2</td>\n",
       "    </tr>\n",
       "    <tr>\n",
       "      <th>23</th>\n",
       "      <td>Nov 03, 2018</td>\n",
       "      <td>6400.07</td>\n",
       "      <td>6342.37</td>\n",
       "      <td>6387.24</td>\n",
       "      <td>6361.26</td>\n",
       "      <td>3.658640e+09</td>\n",
       "      <td>3</td>\n",
       "    </tr>\n",
       "    <tr>\n",
       "      <th>22</th>\n",
       "      <td>Nov 04, 2018</td>\n",
       "      <td>6388.63</td>\n",
       "      <td>6294.57</td>\n",
       "      <td>6365.47</td>\n",
       "      <td>6376.13</td>\n",
       "      <td>4.390020e+09</td>\n",
       "      <td>4</td>\n",
       "    </tr>\n",
       "    <tr>\n",
       "      <th>21</th>\n",
       "      <td>Nov 05, 2018</td>\n",
       "      <td>6480.59</td>\n",
       "      <td>6363.62</td>\n",
       "      <td>6363.62</td>\n",
       "      <td>6419.66</td>\n",
       "      <td>4.174800e+09</td>\n",
       "      <td>5</td>\n",
       "    </tr>\n",
       "    <tr>\n",
       "      <th>20</th>\n",
       "      <td>Nov 06, 2018</td>\n",
       "      <td>6463.55</td>\n",
       "      <td>6408.16</td>\n",
       "      <td>6433.38</td>\n",
       "      <td>6461.01</td>\n",
       "      <td>4.700040e+09</td>\n",
       "      <td>6</td>\n",
       "    </tr>\n",
       "    <tr>\n",
       "      <th>19</th>\n",
       "      <td>Nov 07, 2018</td>\n",
       "      <td>6552.16</td>\n",
       "      <td>6468.31</td>\n",
       "      <td>6468.50</td>\n",
       "      <td>6530.14</td>\n",
       "      <td>4.941260e+09</td>\n",
       "      <td>7</td>\n",
       "    </tr>\n",
       "    <tr>\n",
       "      <th>18</th>\n",
       "      <td>Nov 08, 2018</td>\n",
       "      <td>6536.92</td>\n",
       "      <td>6438.53</td>\n",
       "      <td>6522.27</td>\n",
       "      <td>6453.72</td>\n",
       "      <td>4.665260e+09</td>\n",
       "      <td>8</td>\n",
       "    </tr>\n",
       "  </tbody>\n",
       "</table>\n",
       "</div>"
      ],
      "text/plain": [
       "            date     high      low    opens    close        volume  day\n",
       "25  Nov 01, 2018  6547.14  6311.83  6318.14  6377.78  3.789400e+09    1\n",
       "24  Nov 02, 2018  6396.86  6327.38  6378.92  6388.44  4.234870e+09    2\n",
       "23  Nov 03, 2018  6400.07  6342.37  6387.24  6361.26  3.658640e+09    3\n",
       "22  Nov 04, 2018  6388.63  6294.57  6365.47  6376.13  4.390020e+09    4\n",
       "21  Nov 05, 2018  6480.59  6363.62  6363.62  6419.66  4.174800e+09    5\n",
       "20  Nov 06, 2018  6463.55  6408.16  6433.38  6461.01  4.700040e+09    6\n",
       "19  Nov 07, 2018  6552.16  6468.31  6468.50  6530.14  4.941260e+09    7\n",
       "18  Nov 08, 2018  6536.92  6438.53  6522.27  6453.72  4.665260e+09    8"
      ]
     },
     "execution_count": 243,
     "metadata": {},
     "output_type": "execute_result"
    }
   ],
   "source": [
    "price_data = pd.read_csv('bitcoin_full.csv')\n",
    "price_X2 = price_data[['date', 'high', 'low','opens','close','volume']][18:26]\n",
    "price_X2['day'] = [8,7,6,5,4,3,2,1]\n",
    "price_X2 = price_X2.sort_values('day', ascending = True)\n",
    "price_X2"
   ]
  },
  {
   "cell_type": "markdown",
   "metadata": {},
   "source": [
    "Next we will plot a side by side line graph which consist of three subgraphs: average compound sentiment score of tweets in period 2, average tweet length, and the last one is one of the attributes in the 'price_X2' data frame - high, low, opens, close and volume"
   ]
  },
  {
   "cell_type": "markdown",
   "metadata": {},
   "source": [
    "### High "
   ]
  },
  {
   "cell_type": "code",
   "execution_count": 241,
   "metadata": {
    "scrolled": true
   },
   "outputs": [
    {
     "data": {
      "image/png": "[encoded data removed]",
      "text/plain": [
       "<Figure size 1116x324 with 3 Axes>"
      ]
     },
     "metadata": {
      "needs_background": "light"
     },
     "output_type": "display_data"
    },
    {
     "data": {
      "text/plain": [
       "<Figure size 432x288 with 0 Axes>"
      ]
     },
     "metadata": {},
     "output_type": "display_data"
    }
   ],
   "source": [
    "fig, ax =plt.subplots(1,3)\n",
    "fig.set_size_inches(15.5, 4.5)\n",
    "aggregate_X2.plot.line(x = 'time', y = 'compound',ax=ax[0]) \n",
    "aggregate_X2.plot.line(x = 'time', y = 'text_len',ax=ax[1])\n",
    "price_X2.plot.line(x = 'day', y = 'high',ax=ax[2])\n",
    "\n",
    "plt.figure();"
   ]
  },
  {
   "cell_type": "code",
   "execution_count": 265,
   "metadata": {},
   "outputs": [
    {
     "data": {
      "text/html": [
       "<table class=\"simpletable\">\n",
       "<caption>OLS Regression Results</caption>\n",
       "<tr>\n",
       "  <th>Dep. Variable:</th>            <td>y</td>        <th>  R-squared:         </th> <td>   0.707</td>\n",
       "</tr>\n",
       "<tr>\n",
       "  <th>Model:</th>                   <td>OLS</td>       <th>  Adj. R-squared:    </th> <td>   0.665</td>\n",
       "</tr>\n",
       "<tr>\n",
       "  <th>Method:</th>             <td>Least Squares</td>  <th>  F-statistic:       </th> <td>   16.85</td>\n",
       "</tr>\n",
       "<tr>\n",
       "  <th>Date:</th>             <td>Mon, 26 Nov 2018</td> <th>  Prob (F-statistic):</th>  <td>0.00454</td>\n",
       "</tr>\n",
       "<tr>\n",
       "  <th>Time:</th>                 <td>21:25:18</td>     <th>  Log-Likelihood:    </th> <td> -76.648</td>\n",
       "</tr>\n",
       "<tr>\n",
       "  <th>No. Observations:</th>      <td>     8</td>      <th>  AIC:               </th> <td>   155.3</td>\n",
       "</tr>\n",
       "<tr>\n",
       "  <th>Df Residuals:</th>          <td>     7</td>      <th>  BIC:               </th> <td>   155.4</td>\n",
       "</tr>\n",
       "<tr>\n",
       "  <th>Df Model:</th>              <td>     1</td>      <th>                     </th>     <td> </td>   \n",
       "</tr>\n",
       "<tr>\n",
       "  <th>Covariance Type:</th>      <td>nonrobust</td>    <th>                     </th>     <td> </td>   \n",
       "</tr>\n",
       "</table>\n",
       "<table class=\"simpletable\">\n",
       "<tr>\n",
       "   <td></td>     <th>coef</th>     <th>std err</th>      <th>t</th>      <th>P>|t|</th>  <th>[0.025</th>    <th>0.975]</th>  \n",
       "</tr>\n",
       "<tr>\n",
       "  <th>x1</th> <td> 2.231e+04</td> <td> 5433.832</td> <td>    4.105</td> <td> 0.005</td> <td> 9459.446</td> <td> 3.52e+04</td>\n",
       "</tr>\n",
       "</table>\n",
       "<table class=\"simpletable\">\n",
       "<tr>\n",
       "  <th>Omnibus:</th>       <td> 2.906</td> <th>  Durbin-Watson:     </th> <td>   0.932</td>\n",
       "</tr>\n",
       "<tr>\n",
       "  <th>Prob(Omnibus):</th> <td> 0.234</td> <th>  Jarque-Bera (JB):  </th> <td>   0.992</td>\n",
       "</tr>\n",
       "<tr>\n",
       "  <th>Skew:</th>          <td>-0.356</td> <th>  Prob(JB):          </th> <td>   0.609</td>\n",
       "</tr>\n",
       "<tr>\n",
       "  <th>Kurtosis:</th>      <td> 1.428</td> <th>  Cond. No.          </th> <td>    1.00</td>\n",
       "</tr>\n",
       "</table>"
      ],
      "text/plain": [
       "<class 'statsmodels.iolib.summary.Summary'>\n",
       "\"\"\"\n",
       "                            OLS Regression Results                            \n",
       "==============================================================================\n",
       "Dep. Variable:                      y   R-squared:                       0.707\n",
       "Model:                            OLS   Adj. R-squared:                  0.665\n",
       "Method:                 Least Squares   F-statistic:                     16.85\n",
       "Date:                Mon, 26 Nov 2018   Prob (F-statistic):            0.00454\n",
       "Time:                        21:25:18   Log-Likelihood:                -76.648\n",
       "No. Observations:                   8   AIC:                             155.3\n",
       "Df Residuals:                       7   BIC:                             155.4\n",
       "Df Model:                           1                                         \n",
       "Covariance Type:            nonrobust                                         \n",
       "==============================================================================\n",
       "                 coef    std err          t      P>|t|      [0.025      0.975]\n",
       "------------------------------------------------------------------------------\n",
       "x1          2.231e+04   5433.832      4.105      0.005    9459.446    3.52e+04\n",
       "==============================================================================\n",
       "Omnibus:                        2.906   Durbin-Watson:                   0.932\n",
       "Prob(Omnibus):                  0.234   Jarque-Bera (JB):                0.992\n",
       "Skew:                          -0.356   Prob(JB):                        0.609\n",
       "Kurtosis:                       1.428   Cond. No.                         1.00\n",
       "==============================================================================\n",
       "\n",
       "Warnings:\n",
       "[1] Standard Errors assume that the covariance matrix of the errors is correctly specified.\n",
       "\"\"\""
      ]
     },
     "execution_count": 265,
     "metadata": {},
     "output_type": "execute_result"
    }
   ],
   "source": [
    "X = list(aggregate_X2['compound'])\n",
    "y = list(price_X2['high'])\n",
    "\n",
    "model = sm.OLS(y, X).fit()\n",
    "model.summary()"
   ]
  },
  {
   "cell_type": "code",
   "execution_count": 262,
   "metadata": {},
   "outputs": [
    {
     "data": {
      "text/html": [
       "<table class=\"simpletable\">\n",
       "<caption>OLS Regression Results</caption>\n",
       "<tr>\n",
       "  <th>Dep. Variable:</th>            <td>y</td>        <th>  R-squared:         </th> <td>   0.997</td>\n",
       "</tr>\n",
       "<tr>\n",
       "  <th>Model:</th>                   <td>OLS</td>       <th>  Adj. R-squared:    </th> <td>   0.997</td>\n",
       "</tr>\n",
       "<tr>\n",
       "  <th>Method:</th>             <td>Least Squares</td>  <th>  F-statistic:       </th> <td>   2596.</td>\n",
       "</tr>\n",
       "<tr>\n",
       "  <th>Date:</th>             <td>Mon, 26 Nov 2018</td> <th>  Prob (F-statistic):</th> <td>2.94e-10</td>\n",
       "</tr>\n",
       "<tr>\n",
       "  <th>Time:</th>                 <td>21:19:00</td>     <th>  Log-Likelihood:    </th> <td> -57.878</td>\n",
       "</tr>\n",
       "<tr>\n",
       "  <th>No. Observations:</th>      <td>     8</td>      <th>  AIC:               </th> <td>   117.8</td>\n",
       "</tr>\n",
       "<tr>\n",
       "  <th>Df Residuals:</th>          <td>     7</td>      <th>  BIC:               </th> <td>   117.8</td>\n",
       "</tr>\n",
       "<tr>\n",
       "  <th>Df Model:</th>              <td>     1</td>      <th>                     </th>     <td> </td>   \n",
       "</tr>\n",
       "<tr>\n",
       "  <th>Covariance Type:</th>      <td>nonrobust</td>    <th>                     </th>     <td> </td>   \n",
       "</tr>\n",
       "</table>\n",
       "<table class=\"simpletable\">\n",
       "<tr>\n",
       "   <td></td>     <th>coef</th>     <th>std err</th>      <th>t</th>      <th>P>|t|</th>  <th>[0.025</th>    <th>0.975]</th>  \n",
       "</tr>\n",
       "<tr>\n",
       "  <th>x1</th> <td>   65.7967</td> <td>    1.291</td> <td>   50.955</td> <td> 0.000</td> <td>   62.743</td> <td>   68.850</td>\n",
       "</tr>\n",
       "</table>\n",
       "<table class=\"simpletable\">\n",
       "<tr>\n",
       "  <th>Omnibus:</th>       <td> 1.541</td> <th>  Durbin-Watson:     </th> <td>   0.862</td>\n",
       "</tr>\n",
       "<tr>\n",
       "  <th>Prob(Omnibus):</th> <td> 0.463</td> <th>  Jarque-Bera (JB):  </th> <td>   1.000</td>\n",
       "</tr>\n",
       "<tr>\n",
       "  <th>Skew:</th>          <td>-0.719</td> <th>  Prob(JB):          </th> <td>   0.606</td>\n",
       "</tr>\n",
       "<tr>\n",
       "  <th>Kurtosis:</th>      <td> 2.036</td> <th>  Cond. No.          </th> <td>    1.00</td>\n",
       "</tr>\n",
       "</table>"
      ],
      "text/plain": [
       "<class 'statsmodels.iolib.summary.Summary'>\n",
       "\"\"\"\n",
       "                            OLS Regression Results                            \n",
       "==============================================================================\n",
       "Dep. Variable:                      y   R-squared:                       0.997\n",
       "Model:                            OLS   Adj. R-squared:                  0.997\n",
       "Method:                 Least Squares   F-statistic:                     2596.\n",
       "Date:                Mon, 26 Nov 2018   Prob (F-statistic):           2.94e-10\n",
       "Time:                        21:19:00   Log-Likelihood:                -57.878\n",
       "No. Observations:                   8   AIC:                             117.8\n",
       "Df Residuals:                       7   BIC:                             117.8\n",
       "Df Model:                           1                                         \n",
       "Covariance Type:            nonrobust                                         \n",
       "==============================================================================\n",
       "                 coef    std err          t      P>|t|      [0.025      0.975]\n",
       "------------------------------------------------------------------------------\n",
       "x1            65.7967      1.291     50.955      0.000      62.743      68.850\n",
       "==============================================================================\n",
       "Omnibus:                        1.541   Durbin-Watson:                   0.862\n",
       "Prob(Omnibus):                  0.463   Jarque-Bera (JB):                1.000\n",
       "Skew:                          -0.719   Prob(JB):                        0.606\n",
       "Kurtosis:                       2.036   Cond. No.                         1.00\n",
       "==============================================================================\n",
       "\n",
       "Warnings:\n",
       "[1] Standard Errors assume that the covariance matrix of the errors is correctly specified.\n",
       "\"\"\""
      ]
     },
     "execution_count": 262,
     "metadata": {},
     "output_type": "execute_result"
    }
   ],
   "source": [
    "X = list(aggregate_X2['text_len'])\n",
    "y = list(price_X2['high'])\n",
    "\n",
    "model = sm.OLS(y, X).fit()\n",
    "\n",
    "model.summary()"
   ]
  },
  {
   "cell_type": "markdown",
   "metadata": {},
   "source": [
    "### Low"
   ]
  },
  {
   "cell_type": "code",
   "execution_count": 242,
   "metadata": {
    "scrolled": true
   },
   "outputs": [
    {
     "data": {
      "image/png": "[encoded data removed]",
      "text/plain": [
       "<Figure size 1116x324 with 3 Axes>"
      ]
     },
     "metadata": {
      "needs_background": "light"
     },
     "output_type": "display_data"
    },
    {
     "data": {
      "text/plain": [
       "<Figure size 432x288 with 0 Axes>"
      ]
     },
     "metadata": {},
     "output_type": "display_data"
    }
   ],
   "source": [
    "fig, ax =plt.subplots(1,3)\n",
    "fig.set_size_inches(15.5, 4.5)\n",
    "aggregate_X2.plot.line(x = 'time', y = 'compound',ax=ax[0]) \n",
    "aggregate_X2.plot.line(x = 'time', y = 'text_len',ax=ax[1])\n",
    "price_X2.plot.line(x = 'day', y = 'low',ax=ax[2])\n",
    "\n",
    "plt.figure();"
   ]
  },
  {
   "cell_type": "code",
   "execution_count": 264,
   "metadata": {
    "scrolled": true
   },
   "outputs": [
    {
     "data": {
      "text/html": [
       "<table class=\"simpletable\">\n",
       "<caption>OLS Regression Results</caption>\n",
       "<tr>\n",
       "  <th>Dep. Variable:</th>            <td>y</td>        <th>  R-squared:         </th> <td>   0.703</td>\n",
       "</tr>\n",
       "<tr>\n",
       "  <th>Model:</th>                   <td>OLS</td>       <th>  Adj. R-squared:    </th> <td>   0.661</td>\n",
       "</tr>\n",
       "<tr>\n",
       "  <th>Method:</th>             <td>Least Squares</td>  <th>  F-statistic:       </th> <td>   16.61</td>\n",
       "</tr>\n",
       "<tr>\n",
       "  <th>Date:</th>             <td>Mon, 26 Nov 2018</td> <th>  Prob (F-statistic):</th>  <td>0.00472</td>\n",
       "</tr>\n",
       "<tr>\n",
       "  <th>Time:</th>                 <td>21:25:09</td>     <th>  Log-Likelihood:    </th> <td> -76.563</td>\n",
       "</tr>\n",
       "<tr>\n",
       "  <th>No. Observations:</th>      <td>     8</td>      <th>  AIC:               </th> <td>   155.1</td>\n",
       "</tr>\n",
       "<tr>\n",
       "  <th>Df Residuals:</th>          <td>     7</td>      <th>  BIC:               </th> <td>   155.2</td>\n",
       "</tr>\n",
       "<tr>\n",
       "  <th>Df Model:</th>              <td>     1</td>      <th>                     </th>     <td> </td>   \n",
       "</tr>\n",
       "<tr>\n",
       "  <th>Covariance Type:</th>      <td>nonrobust</td>    <th>                     </th>     <td> </td>   \n",
       "</tr>\n",
       "</table>\n",
       "<table class=\"simpletable\">\n",
       "<tr>\n",
       "   <td></td>     <th>coef</th>     <th>std err</th>      <th>t</th>      <th>P>|t|</th>  <th>[0.025</th>    <th>0.975]</th>  \n",
       "</tr>\n",
       "<tr>\n",
       "  <th>x1</th> <td> 2.191e+04</td> <td> 5376.476</td> <td>    4.075</td> <td> 0.005</td> <td> 9197.681</td> <td> 3.46e+04</td>\n",
       "</tr>\n",
       "</table>\n",
       "<table class=\"simpletable\">\n",
       "<tr>\n",
       "  <th>Omnibus:</th>       <td> 3.084</td> <th>  Durbin-Watson:     </th> <td>   0.936</td>\n",
       "</tr>\n",
       "<tr>\n",
       "  <th>Prob(Omnibus):</th> <td> 0.214</td> <th>  Jarque-Bera (JB):  </th> <td>   1.005</td>\n",
       "</tr>\n",
       "<tr>\n",
       "  <th>Skew:</th>          <td>-0.343</td> <th>  Prob(JB):          </th> <td>   0.605</td>\n",
       "</tr>\n",
       "<tr>\n",
       "  <th>Kurtosis:</th>      <td> 1.404</td> <th>  Cond. No.          </th> <td>    1.00</td>\n",
       "</tr>\n",
       "</table>"
      ],
      "text/plain": [
       "<class 'statsmodels.iolib.summary.Summary'>\n",
       "\"\"\"\n",
       "                            OLS Regression Results                            \n",
       "==============================================================================\n",
       "Dep. Variable:                      y   R-squared:                       0.703\n",
       "Model:                            OLS   Adj. R-squared:                  0.661\n",
       "Method:                 Least Squares   F-statistic:                     16.61\n",
       "Date:                Mon, 26 Nov 2018   Prob (F-statistic):            0.00472\n",
       "Time:                        21:25:09   Log-Likelihood:                -76.563\n",
       "No. Observations:                   8   AIC:                             155.1\n",
       "Df Residuals:                       7   BIC:                             155.2\n",
       "Df Model:                           1                                         \n",
       "Covariance Type:            nonrobust                                         \n",
       "==============================================================================\n",
       "                 coef    std err          t      P>|t|      [0.025      0.975]\n",
       "------------------------------------------------------------------------------\n",
       "x1          2.191e+04   5376.476      4.075      0.005    9197.681    3.46e+04\n",
       "==============================================================================\n",
       "Omnibus:                        3.084   Durbin-Watson:                   0.936\n",
       "Prob(Omnibus):                  0.214   Jarque-Bera (JB):                1.005\n",
       "Skew:                          -0.343   Prob(JB):                        0.605\n",
       "Kurtosis:                       1.404   Cond. No.                         1.00\n",
       "==============================================================================\n",
       "\n",
       "Warnings:\n",
       "[1] Standard Errors assume that the covariance matrix of the errors is correctly specified.\n",
       "\"\"\""
      ]
     },
     "execution_count": 264,
     "metadata": {},
     "output_type": "execute_result"
    }
   ],
   "source": [
    "X = list(aggregate_X2['compound'])\n",
    "y = list(price_X2['low'])\n",
    "\n",
    "model = sm.OLS(y, X).fit()\n",
    "model.summary()"
   ]
  },
  {
   "cell_type": "code",
   "execution_count": 266,
   "metadata": {},
   "outputs": [
    {
     "data": {
      "text/html": [
       "<table class=\"simpletable\">\n",
       "<caption>OLS Regression Results</caption>\n",
       "<tr>\n",
       "  <th>Dep. Variable:</th>            <td>y</td>        <th>  R-squared:         </th> <td>   0.998</td>\n",
       "</tr>\n",
       "<tr>\n",
       "  <th>Model:</th>                   <td>OLS</td>       <th>  Adj. R-squared:    </th> <td>   0.997</td>\n",
       "</tr>\n",
       "<tr>\n",
       "  <th>Method:</th>             <td>Least Squares</td>  <th>  F-statistic:       </th> <td>   2835.</td>\n",
       "</tr>\n",
       "<tr>\n",
       "  <th>Date:</th>             <td>Mon, 26 Nov 2018</td> <th>  Prob (F-statistic):</th> <td>2.16e-10</td>\n",
       "</tr>\n",
       "<tr>\n",
       "  <th>Time:</th>                 <td>21:25:33</td>     <th>  Log-Likelihood:    </th> <td> -57.401</td>\n",
       "</tr>\n",
       "<tr>\n",
       "  <th>No. Observations:</th>      <td>     8</td>      <th>  AIC:               </th> <td>   116.8</td>\n",
       "</tr>\n",
       "<tr>\n",
       "  <th>Df Residuals:</th>          <td>     7</td>      <th>  BIC:               </th> <td>   116.9</td>\n",
       "</tr>\n",
       "<tr>\n",
       "  <th>Df Model:</th>              <td>     1</td>      <th>                     </th>     <td> </td>   \n",
       "</tr>\n",
       "<tr>\n",
       "  <th>Covariance Type:</th>      <td>nonrobust</td>    <th>                     </th>     <td> </td>   \n",
       "</tr>\n",
       "</table>\n",
       "<table class=\"simpletable\">\n",
       "<tr>\n",
       "   <td></td>     <th>coef</th>     <th>std err</th>      <th>t</th>      <th>P>|t|</th>  <th>[0.025</th>    <th>0.975]</th>  \n",
       "</tr>\n",
       "<tr>\n",
       "  <th>x1</th> <td>   64.7724</td> <td>    1.217</td> <td>   53.244</td> <td> 0.000</td> <td>   61.896</td> <td>   67.649</td>\n",
       "</tr>\n",
       "</table>\n",
       "<table class=\"simpletable\">\n",
       "<tr>\n",
       "  <th>Omnibus:</th>       <td> 1.570</td> <th>  Durbin-Watson:     </th> <td>   0.936</td>\n",
       "</tr>\n",
       "<tr>\n",
       "  <th>Prob(Omnibus):</th> <td> 0.456</td> <th>  Jarque-Bera (JB):  </th> <td>   1.016</td>\n",
       "</tr>\n",
       "<tr>\n",
       "  <th>Skew:</th>          <td>-0.720</td> <th>  Prob(JB):          </th> <td>   0.602</td>\n",
       "</tr>\n",
       "<tr>\n",
       "  <th>Kurtosis:</th>      <td> 2.011</td> <th>  Cond. No.          </th> <td>    1.00</td>\n",
       "</tr>\n",
       "</table>"
      ],
      "text/plain": [
       "<class 'statsmodels.iolib.summary.Summary'>\n",
       "\"\"\"\n",
       "                            OLS Regression Results                            \n",
       "==============================================================================\n",
       "Dep. Variable:                      y   R-squared:                       0.998\n",
       "Model:                            OLS   Adj. R-squared:                  0.997\n",
       "Method:                 Least Squares   F-statistic:                     2835.\n",
       "Date:                Mon, 26 Nov 2018   Prob (F-statistic):           2.16e-10\n",
       "Time:                        21:25:33   Log-Likelihood:                -57.401\n",
       "No. Observations:                   8   AIC:                             116.8\n",
       "Df Residuals:                       7   BIC:                             116.9\n",
       "Df Model:                           1                                         \n",
       "Covariance Type:            nonrobust                                         \n",
       "==============================================================================\n",
       "                 coef    std err          t      P>|t|      [0.025      0.975]\n",
       "------------------------------------------------------------------------------\n",
       "x1            64.7724      1.217     53.244      0.000      61.896      67.649\n",
       "==============================================================================\n",
       "Omnibus:                        1.570   Durbin-Watson:                   0.936\n",
       "Prob(Omnibus):                  0.456   Jarque-Bera (JB):                1.016\n",
       "Skew:                          -0.720   Prob(JB):                        0.602\n",
       "Kurtosis:                       2.011   Cond. No.                         1.00\n",
       "==============================================================================\n",
       "\n",
       "Warnings:\n",
       "[1] Standard Errors assume that the covariance matrix of the errors is correctly specified.\n",
       "\"\"\""
      ]
     },
     "execution_count": 266,
     "metadata": {},
     "output_type": "execute_result"
    }
   ],
   "source": [
    "X = list(aggregate_X2['text_len'])\n",
    "y = list(price_X2['low'])\n",
    "\n",
    "model = sm.OLS(y, X).fit()\n",
    "model.summary()"
   ]
  },
  {
   "cell_type": "markdown",
   "metadata": {},
   "source": [
    "### Opens"
   ]
  },
  {
   "cell_type": "code",
   "execution_count": 244,
   "metadata": {},
   "outputs": [
    {
     "data": {
      "image/png": "[encoded data removed]",
      "text/plain": [
       "<Figure size 1116x324 with 3 Axes>"
      ]
     },
     "metadata": {
      "needs_background": "light"
     },
     "output_type": "display_data"
    },
    {
     "data": {
      "text/plain": [
       "<Figure size 432x288 with 0 Axes>"
      ]
     },
     "metadata": {},
     "output_type": "display_data"
    }
   ],
   "source": [
    "fig, ax =plt.subplots(1,3)\n",
    "fig.set_size_inches(15.5, 4.5)\n",
    "aggregate_X2.plot.line(x = 'time', y = 'compound',ax=ax[0]) \n",
    "aggregate_X2.plot.line(x = 'time', y = 'text_len',ax=ax[1])\n",
    "price_X2.plot.line(x = 'day', y = 'opens',ax=ax[2])\n",
    "\n",
    "plt.figure();"
   ]
  },
  {
   "cell_type": "code",
   "execution_count": 267,
   "metadata": {},
   "outputs": [
    {
     "data": {
      "text/html": [
       "<table class=\"simpletable\">\n",
       "<caption>OLS Regression Results</caption>\n",
       "<tr>\n",
       "  <th>Dep. Variable:</th>            <td>y</td>        <th>  R-squared:         </th> <td>   0.700</td>\n",
       "</tr>\n",
       "<tr>\n",
       "  <th>Model:</th>                   <td>OLS</td>       <th>  Adj. R-squared:    </th> <td>   0.658</td>\n",
       "</tr>\n",
       "<tr>\n",
       "  <th>Method:</th>             <td>Least Squares</td>  <th>  F-statistic:       </th> <td>   16.37</td>\n",
       "</tr>\n",
       "<tr>\n",
       "  <th>Date:</th>             <td>Mon, 26 Nov 2018</td> <th>  Prob (F-statistic):</th>  <td>0.00490</td>\n",
       "</tr>\n",
       "<tr>\n",
       "  <th>Time:</th>                 <td>21:26:16</td>     <th>  Log-Likelihood:    </th> <td> -76.648</td>\n",
       "</tr>\n",
       "<tr>\n",
       "  <th>No. Observations:</th>      <td>     8</td>      <th>  AIC:               </th> <td>   155.3</td>\n",
       "</tr>\n",
       "<tr>\n",
       "  <th>Df Residuals:</th>          <td>     7</td>      <th>  BIC:               </th> <td>   155.4</td>\n",
       "</tr>\n",
       "<tr>\n",
       "  <th>Df Model:</th>              <td>     1</td>      <th>                     </th>     <td> </td>   \n",
       "</tr>\n",
       "<tr>\n",
       "  <th>Covariance Type:</th>      <td>nonrobust</td>    <th>                     </th>     <td> </td>   \n",
       "</tr>\n",
       "</table>\n",
       "<table class=\"simpletable\">\n",
       "<tr>\n",
       "   <td></td>     <th>coef</th>     <th>std err</th>      <th>t</th>      <th>P>|t|</th>  <th>[0.025</th>    <th>0.975]</th>  \n",
       "</tr>\n",
       "<tr>\n",
       "  <th>x1</th> <td> 2.198e+04</td> <td> 5434.174</td> <td>    4.046</td> <td> 0.005</td> <td> 9134.934</td> <td> 3.48e+04</td>\n",
       "</tr>\n",
       "</table>\n",
       "<table class=\"simpletable\">\n",
       "<tr>\n",
       "  <th>Omnibus:</th>       <td> 3.157</td> <th>  Durbin-Watson:     </th> <td>   0.936</td>\n",
       "</tr>\n",
       "<tr>\n",
       "  <th>Prob(Omnibus):</th> <td> 0.206</td> <th>  Jarque-Bera (JB):  </th> <td>   1.012</td>\n",
       "</tr>\n",
       "<tr>\n",
       "  <th>Skew:</th>          <td>-0.339</td> <th>  Prob(JB):          </th> <td>   0.603</td>\n",
       "</tr>\n",
       "<tr>\n",
       "  <th>Kurtosis:</th>      <td> 1.395</td> <th>  Cond. No.          </th> <td>    1.00</td>\n",
       "</tr>\n",
       "</table>"
      ],
      "text/plain": [
       "<class 'statsmodels.iolib.summary.Summary'>\n",
       "\"\"\"\n",
       "                            OLS Regression Results                            \n",
       "==============================================================================\n",
       "Dep. Variable:                      y   R-squared:                       0.700\n",
       "Model:                            OLS   Adj. R-squared:                  0.658\n",
       "Method:                 Least Squares   F-statistic:                     16.37\n",
       "Date:                Mon, 26 Nov 2018   Prob (F-statistic):            0.00490\n",
       "Time:                        21:26:16   Log-Likelihood:                -76.648\n",
       "No. Observations:                   8   AIC:                             155.3\n",
       "Df Residuals:                       7   BIC:                             155.4\n",
       "Df Model:                           1                                         \n",
       "Covariance Type:            nonrobust                                         \n",
       "==============================================================================\n",
       "                 coef    std err          t      P>|t|      [0.025      0.975]\n",
       "------------------------------------------------------------------------------\n",
       "x1          2.198e+04   5434.174      4.046      0.005    9134.934    3.48e+04\n",
       "==============================================================================\n",
       "Omnibus:                        3.157   Durbin-Watson:                   0.936\n",
       "Prob(Omnibus):                  0.206   Jarque-Bera (JB):                1.012\n",
       "Skew:                          -0.339   Prob(JB):                        0.603\n",
       "Kurtosis:                       1.395   Cond. No.                         1.00\n",
       "==============================================================================\n",
       "\n",
       "Warnings:\n",
       "[1] Standard Errors assume that the covariance matrix of the errors is correctly specified.\n",
       "\"\"\""
      ]
     },
     "execution_count": 267,
     "metadata": {},
     "output_type": "execute_result"
    }
   ],
   "source": [
    "X = list(aggregate_X2['compound'])\n",
    "y = list(price_X2['opens'])\n",
    "\n",
    "model = sm.OLS(y, X).fit()\n",
    "model.summary()"
   ]
  },
  {
   "cell_type": "code",
   "execution_count": 268,
   "metadata": {},
   "outputs": [
    {
     "data": {
      "text/html": [
       "<table class=\"simpletable\">\n",
       "<caption>OLS Regression Results</caption>\n",
       "<tr>\n",
       "  <th>Dep. Variable:</th>            <td>y</td>        <th>  R-squared:         </th> <td>   0.997</td>\n",
       "</tr>\n",
       "<tr>\n",
       "  <th>Model:</th>                   <td>OLS</td>       <th>  Adj. R-squared:    </th> <td>   0.997</td>\n",
       "</tr>\n",
       "<tr>\n",
       "  <th>Method:</th>             <td>Least Squares</td>  <th>  F-statistic:       </th> <td>   2530.</td>\n",
       "</tr>\n",
       "<tr>\n",
       "  <th>Date:</th>             <td>Mon, 26 Nov 2018</td> <th>  Prob (F-statistic):</th> <td>3.21e-10</td>\n",
       "</tr>\n",
       "<tr>\n",
       "  <th>Time:</th>                 <td>21:27:00</td>     <th>  Log-Likelihood:    </th> <td> -57.899</td>\n",
       "</tr>\n",
       "<tr>\n",
       "  <th>No. Observations:</th>      <td>     8</td>      <th>  AIC:               </th> <td>   117.8</td>\n",
       "</tr>\n",
       "<tr>\n",
       "  <th>Df Residuals:</th>          <td>     7</td>      <th>  BIC:               </th> <td>   117.9</td>\n",
       "</tr>\n",
       "<tr>\n",
       "  <th>Df Model:</th>              <td>     1</td>      <th>                     </th>     <td> </td>   \n",
       "</tr>\n",
       "<tr>\n",
       "  <th>Covariance Type:</th>      <td>nonrobust</td>    <th>                     </th>     <td> </td>   \n",
       "</tr>\n",
       "</table>\n",
       "<table class=\"simpletable\">\n",
       "<tr>\n",
       "   <td></td>     <th>coef</th>     <th>std err</th>      <th>t</th>      <th>P>|t|</th>  <th>[0.025</th>    <th>0.975]</th>  \n",
       "</tr>\n",
       "<tr>\n",
       "  <th>x1</th> <td>   65.1225</td> <td>    1.295</td> <td>   50.300</td> <td> 0.000</td> <td>   62.061</td> <td>   68.184</td>\n",
       "</tr>\n",
       "</table>\n",
       "<table class=\"simpletable\">\n",
       "<tr>\n",
       "  <th>Omnibus:</th>       <td> 1.466</td> <th>  Durbin-Watson:     </th> <td>   0.996</td>\n",
       "</tr>\n",
       "<tr>\n",
       "  <th>Prob(Omnibus):</th> <td> 0.480</td> <th>  Jarque-Bera (JB):  </th> <td>   0.959</td>\n",
       "</tr>\n",
       "<tr>\n",
       "  <th>Skew:</th>          <td>-0.651</td> <th>  Prob(JB):          </th> <td>   0.619</td>\n",
       "</tr>\n",
       "<tr>\n",
       "  <th>Kurtosis:</th>      <td> 1.913</td> <th>  Cond. No.          </th> <td>    1.00</td>\n",
       "</tr>\n",
       "</table>"
      ],
      "text/plain": [
       "<class 'statsmodels.iolib.summary.Summary'>\n",
       "\"\"\"\n",
       "                            OLS Regression Results                            \n",
       "==============================================================================\n",
       "Dep. Variable:                      y   R-squared:                       0.997\n",
       "Model:                            OLS   Adj. R-squared:                  0.997\n",
       "Method:                 Least Squares   F-statistic:                     2530.\n",
       "Date:                Mon, 26 Nov 2018   Prob (F-statistic):           3.21e-10\n",
       "Time:                        21:27:00   Log-Likelihood:                -57.899\n",
       "No. Observations:                   8   AIC:                             117.8\n",
       "Df Residuals:                       7   BIC:                             117.9\n",
       "Df Model:                           1                                         \n",
       "Covariance Type:            nonrobust                                         \n",
       "==============================================================================\n",
       "                 coef    std err          t      P>|t|      [0.025      0.975]\n",
       "------------------------------------------------------------------------------\n",
       "x1            65.1225      1.295     50.300      0.000      62.061      68.184\n",
       "==============================================================================\n",
       "Omnibus:                        1.466   Durbin-Watson:                   0.996\n",
       "Prob(Omnibus):                  0.480   Jarque-Bera (JB):                0.959\n",
       "Skew:                          -0.651   Prob(JB):                        0.619\n",
       "Kurtosis:                       1.913   Cond. No.                         1.00\n",
       "==============================================================================\n",
       "\n",
       "Warnings:\n",
       "[1] Standard Errors assume that the covariance matrix of the errors is correctly specified.\n",
       "\"\"\""
      ]
     },
     "execution_count": 268,
     "metadata": {},
     "output_type": "execute_result"
    }
   ],
   "source": [
    "X = list(aggregate_X2['text_len'])\n",
    "y = list(price_X2['opens'])\n",
    "\n",
    "model = sm.OLS(y, X).fit()\n",
    "model.summary()"
   ]
  },
  {
   "cell_type": "markdown",
   "metadata": {},
   "source": [
    "### Close"
   ]
  },
  {
   "cell_type": "code",
   "execution_count": 245,
   "metadata": {},
   "outputs": [
    {
     "data": {
      "image/png": "[encoded data removed]",
      "text/plain": [
       "<Figure size 1116x324 with 3 Axes>"
      ]
     },
     "metadata": {
      "needs_background": "light"
     },
     "output_type": "display_data"
    },
    {
     "data": {
      "text/plain": [
       "<Figure size 432x288 with 0 Axes>"
      ]
     },
     "metadata": {},
     "output_type": "display_data"
    }
   ],
   "source": [
    "fig, ax =plt.subplots(1,3)\n",
    "fig.set_size_inches(15.5, 4.5)\n",
    "aggregate_X2.plot.line(x = 'time', y = 'compound',ax=ax[0]) \n",
    "aggregate_X2.plot.line(x = 'time', y = 'text_len',ax=ax[1])\n",
    "price_X2.plot.line(x = 'day', y = 'close',ax=ax[2])\n",
    "\n",
    "plt.figure();"
   ]
  },
  {
   "cell_type": "code",
   "execution_count": 269,
   "metadata": {},
   "outputs": [
    {
     "data": {
      "text/html": [
       "<table class=\"simpletable\">\n",
       "<caption>OLS Regression Results</caption>\n",
       "<tr>\n",
       "  <th>Dep. Variable:</th>            <td>y</td>        <th>  R-squared:         </th> <td>   0.705</td>\n",
       "</tr>\n",
       "<tr>\n",
       "  <th>Model:</th>                   <td>OLS</td>       <th>  Adj. R-squared:    </th> <td>   0.662</td>\n",
       "</tr>\n",
       "<tr>\n",
       "  <th>Method:</th>             <td>Least Squares</td>  <th>  F-statistic:       </th> <td>   16.69</td>\n",
       "</tr>\n",
       "<tr>\n",
       "  <th>Date:</th>             <td>Mon, 26 Nov 2018</td> <th>  Prob (F-statistic):</th>  <td>0.00466</td>\n",
       "</tr>\n",
       "<tr>\n",
       "  <th>Time:</th>                 <td>21:27:45</td>     <th>  Log-Likelihood:    </th> <td> -76.614</td>\n",
       "</tr>\n",
       "<tr>\n",
       "  <th>No. Observations:</th>      <td>     8</td>      <th>  AIC:               </th> <td>   155.2</td>\n",
       "</tr>\n",
       "<tr>\n",
       "  <th>Df Residuals:</th>          <td>     7</td>      <th>  BIC:               </th> <td>   155.3</td>\n",
       "</tr>\n",
       "<tr>\n",
       "  <th>Df Model:</th>              <td>     1</td>      <th>                     </th>     <td> </td>   \n",
       "</tr>\n",
       "<tr>\n",
       "  <th>Covariance Type:</th>      <td>nonrobust</td>    <th>                     </th>     <td> </td>   \n",
       "</tr>\n",
       "</table>\n",
       "<table class=\"simpletable\">\n",
       "<tr>\n",
       "   <td></td>     <th>coef</th>     <th>std err</th>      <th>t</th>      <th>P>|t|</th>  <th>[0.025</th>    <th>0.975]</th>  \n",
       "</tr>\n",
       "<tr>\n",
       "  <th>x1</th> <td>  2.21e+04</td> <td> 5410.641</td> <td>    4.085</td> <td> 0.005</td> <td> 9310.631</td> <td> 3.49e+04</td>\n",
       "</tr>\n",
       "</table>\n",
       "<table class=\"simpletable\">\n",
       "<tr>\n",
       "  <th>Omnibus:</th>       <td> 3.094</td> <th>  Durbin-Watson:     </th> <td>   0.940</td>\n",
       "</tr>\n",
       "<tr>\n",
       "  <th>Prob(Omnibus):</th> <td> 0.213</td> <th>  Jarque-Bera (JB):  </th> <td>   1.010</td>\n",
       "</tr>\n",
       "<tr>\n",
       "  <th>Skew:</th>          <td>-0.348</td> <th>  Prob(JB):          </th> <td>   0.603</td>\n",
       "</tr>\n",
       "<tr>\n",
       "  <th>Kurtosis:</th>      <td> 1.404</td> <th>  Cond. No.          </th> <td>    1.00</td>\n",
       "</tr>\n",
       "</table>"
      ],
      "text/plain": [
       "<class 'statsmodels.iolib.summary.Summary'>\n",
       "\"\"\"\n",
       "                            OLS Regression Results                            \n",
       "==============================================================================\n",
       "Dep. Variable:                      y   R-squared:                       0.705\n",
       "Model:                            OLS   Adj. R-squared:                  0.662\n",
       "Method:                 Least Squares   F-statistic:                     16.69\n",
       "Date:                Mon, 26 Nov 2018   Prob (F-statistic):            0.00466\n",
       "Time:                        21:27:45   Log-Likelihood:                -76.614\n",
       "No. Observations:                   8   AIC:                             155.2\n",
       "Df Residuals:                       7   BIC:                             155.3\n",
       "Df Model:                           1                                         \n",
       "Covariance Type:            nonrobust                                         \n",
       "==============================================================================\n",
       "                 coef    std err          t      P>|t|      [0.025      0.975]\n",
       "------------------------------------------------------------------------------\n",
       "x1           2.21e+04   5410.641      4.085      0.005    9310.631    3.49e+04\n",
       "==============================================================================\n",
       "Omnibus:                        3.094   Durbin-Watson:                   0.940\n",
       "Prob(Omnibus):                  0.213   Jarque-Bera (JB):                1.010\n",
       "Skew:                          -0.348   Prob(JB):                        0.603\n",
       "Kurtosis:                       1.404   Cond. No.                         1.00\n",
       "==============================================================================\n",
       "\n",
       "Warnings:\n",
       "[1] Standard Errors assume that the covariance matrix of the errors is correctly specified.\n",
       "\"\"\""
      ]
     },
     "execution_count": 269,
     "metadata": {},
     "output_type": "execute_result"
    }
   ],
   "source": [
    "X = list(aggregate_X2['compound'])\n",
    "y = list(price_X2['close'])\n",
    "\n",
    "model = sm.OLS(y, X).fit()\n",
    "model.summary()"
   ]
  },
  {
   "cell_type": "code",
   "execution_count": 270,
   "metadata": {},
   "outputs": [
    {
     "data": {
      "text/html": [
       "<table class=\"simpletable\">\n",
       "<caption>OLS Regression Results</caption>\n",
       "<tr>\n",
       "  <th>Dep. Variable:</th>            <td>y</td>        <th>  R-squared:         </th> <td>   0.998</td>\n",
       "</tr>\n",
       "<tr>\n",
       "  <th>Model:</th>                   <td>OLS</td>       <th>  Adj. R-squared:    </th> <td>   0.997</td>\n",
       "</tr>\n",
       "<tr>\n",
       "  <th>Method:</th>             <td>Least Squares</td>  <th>  F-statistic:       </th> <td>   2895.</td>\n",
       "</tr>\n",
       "<tr>\n",
       "  <th>Date:</th>             <td>Mon, 26 Nov 2018</td> <th>  Prob (F-statistic):</th> <td>2.01e-10</td>\n",
       "</tr>\n",
       "<tr>\n",
       "  <th>Time:</th>                 <td>21:28:00</td>     <th>  Log-Likelihood:    </th> <td> -57.382</td>\n",
       "</tr>\n",
       "<tr>\n",
       "  <th>No. Observations:</th>      <td>     8</td>      <th>  AIC:               </th> <td>   116.8</td>\n",
       "</tr>\n",
       "<tr>\n",
       "  <th>Df Residuals:</th>          <td>     7</td>      <th>  BIC:               </th> <td>   116.8</td>\n",
       "</tr>\n",
       "<tr>\n",
       "  <th>Df Model:</th>              <td>     1</td>      <th>                     </th>     <td> </td>   \n",
       "</tr>\n",
       "<tr>\n",
       "  <th>Covariance Type:</th>      <td>nonrobust</td>    <th>                     </th>     <td> </td>   \n",
       "</tr>\n",
       "</table>\n",
       "<table class=\"simpletable\">\n",
       "<tr>\n",
       "   <td></td>     <th>coef</th>     <th>std err</th>      <th>t</th>      <th>P>|t|</th>  <th>[0.025</th>    <th>0.975]</th>  \n",
       "</tr>\n",
       "<tr>\n",
       "  <th>x1</th> <td>   65.2991</td> <td>    1.214</td> <td>   53.801</td> <td> 0.000</td> <td>   62.429</td> <td>   68.169</td>\n",
       "</tr>\n",
       "</table>\n",
       "<table class=\"simpletable\">\n",
       "<tr>\n",
       "  <th>Omnibus:</th>       <td> 1.621</td> <th>  Durbin-Watson:     </th> <td>   0.978</td>\n",
       "</tr>\n",
       "<tr>\n",
       "  <th>Prob(Omnibus):</th> <td> 0.445</td> <th>  Jarque-Bera (JB):  </th> <td>   1.036</td>\n",
       "</tr>\n",
       "<tr>\n",
       "  <th>Skew:</th>          <td>-0.744</td> <th>  Prob(JB):          </th> <td>   0.596</td>\n",
       "</tr>\n",
       "<tr>\n",
       "  <th>Kurtosis:</th>      <td> 2.053</td> <th>  Cond. No.          </th> <td>    1.00</td>\n",
       "</tr>\n",
       "</table>"
      ],
      "text/plain": [
       "<class 'statsmodels.iolib.summary.Summary'>\n",
       "\"\"\"\n",
       "                            OLS Regression Results                            \n",
       "==============================================================================\n",
       "Dep. Variable:                      y   R-squared:                       0.998\n",
       "Model:                            OLS   Adj. R-squared:                  0.997\n",
       "Method:                 Least Squares   F-statistic:                     2895.\n",
       "Date:                Mon, 26 Nov 2018   Prob (F-statistic):           2.01e-10\n",
       "Time:                        21:28:00   Log-Likelihood:                -57.382\n",
       "No. Observations:                   8   AIC:                             116.8\n",
       "Df Residuals:                       7   BIC:                             116.8\n",
       "Df Model:                           1                                         \n",
       "Covariance Type:            nonrobust                                         \n",
       "==============================================================================\n",
       "                 coef    std err          t      P>|t|      [0.025      0.975]\n",
       "------------------------------------------------------------------------------\n",
       "x1            65.2991      1.214     53.801      0.000      62.429      68.169\n",
       "==============================================================================\n",
       "Omnibus:                        1.621   Durbin-Watson:                   0.978\n",
       "Prob(Omnibus):                  0.445   Jarque-Bera (JB):                1.036\n",
       "Skew:                          -0.744   Prob(JB):                        0.596\n",
       "Kurtosis:                       2.053   Cond. No.                         1.00\n",
       "==============================================================================\n",
       "\n",
       "Warnings:\n",
       "[1] Standard Errors assume that the covariance matrix of the errors is correctly specified.\n",
       "\"\"\""
      ]
     },
     "execution_count": 270,
     "metadata": {},
     "output_type": "execute_result"
    }
   ],
   "source": [
    "X = list(aggregate_X2['text_len'])\n",
    "y = list(price_X2['close'])\n",
    "\n",
    "model = sm.OLS(y, X).fit()\n",
    "model.summary()"
   ]
  },
  {
   "cell_type": "markdown",
   "metadata": {},
   "source": [
    "### Volume"
   ]
  },
  {
   "cell_type": "code",
   "execution_count": 246,
   "metadata": {},
   "outputs": [
    {
     "data": {
      "image/png": "[encoded data removed]",
      "text/plain": [
       "<Figure size 1116x324 with 3 Axes>"
      ]
     },
     "metadata": {
      "needs_background": "light"
     },
     "output_type": "display_data"
    },
    {
     "data": {
      "text/plain": [
       "<Figure size 432x288 with 0 Axes>"
      ]
     },
     "metadata": {},
     "output_type": "display_data"
    }
   ],
   "source": [
    "fig, ax =plt.subplots(1,3)\n",
    "fig.set_size_inches(15.5, 4.5)\n",
    "aggregate_X2.plot.line(x = 'time', y = 'compound',ax=ax[0]) \n",
    "aggregate_X2.plot.line(x = 'time', y = 'text_len',ax=ax[1])\n",
    "price_X2.plot.line(x = 'day', y = 'volume',ax=ax[2])\n",
    "\n",
    "plt.figure();"
   ]
  },
  {
   "cell_type": "code",
   "execution_count": 271,
   "metadata": {},
   "outputs": [
    {
     "data": {
      "text/html": [
       "<table class=\"simpletable\">\n",
       "<caption>OLS Regression Results</caption>\n",
       "<tr>\n",
       "  <th>Dep. Variable:</th>            <td>y</td>        <th>  R-squared:         </th> <td>   0.706</td>\n",
       "</tr>\n",
       "<tr>\n",
       "  <th>Model:</th>                   <td>OLS</td>       <th>  Adj. R-squared:    </th> <td>   0.664</td>\n",
       "</tr>\n",
       "<tr>\n",
       "  <th>Method:</th>             <td>Least Squares</td>  <th>  F-statistic:       </th> <td>   16.80</td>\n",
       "</tr>\n",
       "<tr>\n",
       "  <th>Date:</th>             <td>Mon, 26 Nov 2018</td> <th>  Prob (F-statistic):</th>  <td>0.00458</td>\n",
       "</tr>\n",
       "<tr>\n",
       "  <th>Time:</th>                 <td>21:28:13</td>     <th>  Log-Likelihood:    </th> <td> -183.99</td>\n",
       "</tr>\n",
       "<tr>\n",
       "  <th>No. Observations:</th>      <td>     8</td>      <th>  AIC:               </th> <td>   370.0</td>\n",
       "</tr>\n",
       "<tr>\n",
       "  <th>Df Residuals:</th>          <td>     7</td>      <th>  BIC:               </th> <td>   370.1</td>\n",
       "</tr>\n",
       "<tr>\n",
       "  <th>Df Model:</th>              <td>     1</td>      <th>                     </th>     <td> </td>   \n",
       "</tr>\n",
       "<tr>\n",
       "  <th>Covariance Type:</th>      <td>nonrobust</td>    <th>                     </th>     <td> </td>   \n",
       "</tr>\n",
       "</table>\n",
       "<table class=\"simpletable\">\n",
       "<tr>\n",
       "   <td></td>     <th>coef</th>     <th>std err</th>      <th>t</th>      <th>P>|t|</th>  <th>[0.025</th>    <th>0.975]</th>  \n",
       "</tr>\n",
       "<tr>\n",
       "  <th>x1</th> <td> 1.495e+10</td> <td> 3.65e+09</td> <td>    4.098</td> <td> 0.005</td> <td> 6.33e+09</td> <td> 2.36e+10</td>\n",
       "</tr>\n",
       "</table>\n",
       "<table class=\"simpletable\">\n",
       "<tr>\n",
       "  <th>Omnibus:</th>       <td> 4.625</td> <th>  Durbin-Watson:     </th> <td>   1.050</td>\n",
       "</tr>\n",
       "<tr>\n",
       "  <th>Prob(Omnibus):</th> <td> 0.099</td> <th>  Jarque-Bera (JB):  </th> <td>   1.261</td>\n",
       "</tr>\n",
       "<tr>\n",
       "  <th>Skew:</th>          <td>-0.452</td> <th>  Prob(JB):          </th> <td>   0.532</td>\n",
       "</tr>\n",
       "<tr>\n",
       "  <th>Kurtosis:</th>      <td> 1.278</td> <th>  Cond. No.          </th> <td>    1.00</td>\n",
       "</tr>\n",
       "</table>"
      ],
      "text/plain": [
       "<class 'statsmodels.iolib.summary.Summary'>\n",
       "\"\"\"\n",
       "                            OLS Regression Results                            \n",
       "==============================================================================\n",
       "Dep. Variable:                      y   R-squared:                       0.706\n",
       "Model:                            OLS   Adj. R-squared:                  0.664\n",
       "Method:                 Least Squares   F-statistic:                     16.80\n",
       "Date:                Mon, 26 Nov 2018   Prob (F-statistic):            0.00458\n",
       "Time:                        21:28:13   Log-Likelihood:                -183.99\n",
       "No. Observations:                   8   AIC:                             370.0\n",
       "Df Residuals:                       7   BIC:                             370.1\n",
       "Df Model:                           1                                         \n",
       "Covariance Type:            nonrobust                                         \n",
       "==============================================================================\n",
       "                 coef    std err          t      P>|t|      [0.025      0.975]\n",
       "------------------------------------------------------------------------------\n",
       "x1          1.495e+10   3.65e+09      4.098      0.005    6.33e+09    2.36e+10\n",
       "==============================================================================\n",
       "Omnibus:                        4.625   Durbin-Watson:                   1.050\n",
       "Prob(Omnibus):                  0.099   Jarque-Bera (JB):                1.261\n",
       "Skew:                          -0.452   Prob(JB):                        0.532\n",
       "Kurtosis:                       1.278   Cond. No.                         1.00\n",
       "==============================================================================\n",
       "\n",
       "Warnings:\n",
       "[1] Standard Errors assume that the covariance matrix of the errors is correctly specified.\n",
       "\"\"\""
      ]
     },
     "execution_count": 271,
     "metadata": {},
     "output_type": "execute_result"
    }
   ],
   "source": [
    "X = list(aggregate_X2['compound'])\n",
    "y = list(price_X2['volume'])\n",
    "\n",
    "model = sm.OLS(y, X).fit()\n",
    "model.summary()"
   ]
  },
  {
   "cell_type": "code",
   "execution_count": 272,
   "metadata": {},
   "outputs": [
    {
     "data": {
      "text/html": [
       "<table class=\"simpletable\">\n",
       "<caption>OLS Regression Results</caption>\n",
       "<tr>\n",
       "  <th>Dep. Variable:</th>            <td>y</td>        <th>  R-squared:         </th> <td>   0.992</td>\n",
       "</tr>\n",
       "<tr>\n",
       "  <th>Model:</th>                   <td>OLS</td>       <th>  Adj. R-squared:    </th> <td>   0.991</td>\n",
       "</tr>\n",
       "<tr>\n",
       "  <th>Method:</th>             <td>Least Squares</td>  <th>  F-statistic:       </th> <td>   882.0</td>\n",
       "</tr>\n",
       "<tr>\n",
       "  <th>Date:</th>             <td>Mon, 26 Nov 2018</td> <th>  Prob (F-statistic):</th> <td>1.26e-08</td>\n",
       "</tr>\n",
       "<tr>\n",
       "  <th>Time:</th>                 <td>21:28:54</td>     <th>  Log-Likelihood:    </th> <td> -169.50</td>\n",
       "</tr>\n",
       "<tr>\n",
       "  <th>No. Observations:</th>      <td>     8</td>      <th>  AIC:               </th> <td>   341.0</td>\n",
       "</tr>\n",
       "<tr>\n",
       "  <th>Df Residuals:</th>          <td>     7</td>      <th>  BIC:               </th> <td>   341.1</td>\n",
       "</tr>\n",
       "<tr>\n",
       "  <th>Df Model:</th>              <td>     1</td>      <th>                     </th>     <td> </td>   \n",
       "</tr>\n",
       "<tr>\n",
       "  <th>Covariance Type:</th>      <td>nonrobust</td>    <th>                     </th>     <td> </td>   \n",
       "</tr>\n",
       "</table>\n",
       "<table class=\"simpletable\">\n",
       "<tr>\n",
       "   <td></td>     <th>coef</th>     <th>std err</th>      <th>t</th>      <th>P>|t|</th>  <th>[0.025</th>    <th>0.975]</th>  \n",
       "</tr>\n",
       "<tr>\n",
       "  <th>x1</th> <td> 4.401e+07</td> <td> 1.48e+06</td> <td>   29.698</td> <td> 0.000</td> <td> 4.05e+07</td> <td> 4.75e+07</td>\n",
       "</tr>\n",
       "</table>\n",
       "<table class=\"simpletable\">\n",
       "<tr>\n",
       "  <th>Omnibus:</th>       <td> 1.958</td> <th>  Durbin-Watson:     </th> <td>   1.854</td>\n",
       "</tr>\n",
       "<tr>\n",
       "  <th>Prob(Omnibus):</th> <td> 0.376</td> <th>  Jarque-Bera (JB):  </th> <td>   0.749</td>\n",
       "</tr>\n",
       "<tr>\n",
       "  <th>Skew:</th>          <td>-0.069</td> <th>  Prob(JB):          </th> <td>   0.688</td>\n",
       "</tr>\n",
       "<tr>\n",
       "  <th>Kurtosis:</th>      <td> 1.508</td> <th>  Cond. No.          </th> <td>    1.00</td>\n",
       "</tr>\n",
       "</table>"
      ],
      "text/plain": [
       "<class 'statsmodels.iolib.summary.Summary'>\n",
       "\"\"\"\n",
       "                            OLS Regression Results                            \n",
       "==============================================================================\n",
       "Dep. Variable:                      y   R-squared:                       0.992\n",
       "Model:                            OLS   Adj. R-squared:                  0.991\n",
       "Method:                 Least Squares   F-statistic:                     882.0\n",
       "Date:                Mon, 26 Nov 2018   Prob (F-statistic):           1.26e-08\n",
       "Time:                        21:28:54   Log-Likelihood:                -169.50\n",
       "No. Observations:                   8   AIC:                             341.0\n",
       "Df Residuals:                       7   BIC:                             341.1\n",
       "Df Model:                           1                                         \n",
       "Covariance Type:            nonrobust                                         \n",
       "==============================================================================\n",
       "                 coef    std err          t      P>|t|      [0.025      0.975]\n",
       "------------------------------------------------------------------------------\n",
       "x1          4.401e+07   1.48e+06     29.698      0.000    4.05e+07    4.75e+07\n",
       "==============================================================================\n",
       "Omnibus:                        1.958   Durbin-Watson:                   1.854\n",
       "Prob(Omnibus):                  0.376   Jarque-Bera (JB):                0.749\n",
       "Skew:                          -0.069   Prob(JB):                        0.688\n",
       "Kurtosis:                       1.508   Cond. No.                         1.00\n",
       "==============================================================================\n",
       "\n",
       "Warnings:\n",
       "[1] Standard Errors assume that the covariance matrix of the errors is correctly specified.\n",
       "\"\"\""
      ]
     },
     "execution_count": 272,
     "metadata": {},
     "output_type": "execute_result"
    }
   ],
   "source": [
    "X = list(aggregate_X2['text_len'])\n",
    "y = list(price_X2['volume'])\n",
    "\n",
    "model = sm.OLS(y, X).fit()\n",
    "model.summary()"
   ]
  },
  {
   "cell_type": "code",
   "execution_count": 274,
   "metadata": {},
   "outputs": [
    {
     "name": "stdout",
     "output_type": "stream",
     "text": [
      " P>|t| are all equal to 0.05 in the above linear regression model. If we choose an alpha of 0.05, we can reject the null hypothesis and say that the coefficient is significantly different from 0\n"
     ]
    }
   ],
   "source": [
    "print(' P>|t| are all equal to 0.05 in the above linear regression model. If we choose an alpha of 0.05, we can reject the null hypothesis and say that the coefficient is significantly different from 0')"
   ]
  },
  {
   "cell_type": "code",
   "execution_count": null,
   "metadata": {},
   "outputs": [],
   "source": []
  }
 ],
 "metadata": {
  "kernelspec": {
   "display_name": "Python 3",
   "language": "python",
   "name": "python3"
  },
  "language_info": {
   "codemirror_mode": {
    "name": "ipython",
    "version": 3
   },
   "file_extension": ".py",
   "mimetype": "text/x-python",
   "name": "python",
   "nbconvert_exporter": "python",
   "pygments_lexer": "ipython3",
   "version": "3.6.7"
  }
 },
 "nbformat": 4,
 "nbformat_minor": 2
}
