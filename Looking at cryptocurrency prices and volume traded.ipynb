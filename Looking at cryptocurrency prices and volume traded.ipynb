{
 "cells": [
  {
   "cell_type": "code",
   "execution_count": 1,
   "metadata": {
    "collapsed": true
   },
   "outputs": [],
   "source": [
    "import requests\n",
    "import bs4 as bs\n",
    "import re\n",
    "import pandas as pd\n",
    "import numpy as np\n",
    "website = requests.get('https://coinmarketcap.com/')"
   ]
  },
  {
   "cell_type": "code",
   "execution_count": 2,
   "metadata": {
    "collapsed": true
   },
   "outputs": [],
   "source": [
    "soup = bs.BeautifulSoup(website.content, features='html.parser') "
   ]
  },
  {
   "cell_type": "code",
   "execution_count": 3,
   "metadata": {
    "collapsed": true
   },
   "outputs": [],
   "source": [
    "names = soup.find_all(class_='currency-name-container link-secondary')\n",
    "names = [i.text for i in names]"
   ]
  },
  {
   "cell_type": "code",
   "execution_count": 4,
   "metadata": {
    "collapsed": true
   },
   "outputs": [],
   "source": [
    "marketcap = soup.find_all(class_='no-wrap market-cap text-right')\n",
    "marketcap = [re.findall('\\$(.*)', i.text) for i in marketcap]"
   ]
  },
  {
   "cell_type": "code",
   "execution_count": 5,
   "metadata": {
    "collapsed": true
   },
   "outputs": [],
   "source": [
    "price = soup.find_all(class_='price')\n",
    "price = [re.findall('\\$(.*)', i.text) for i in price]"
   ]
  },
  {
   "cell_type": "code",
   "execution_count": 6,
   "metadata": {
    "collapsed": true
   },
   "outputs": [],
   "source": [
    "volume = soup.find_all(class_='volume')\n",
    "volume = [re.findall('\\$(.*)', i.text) for i in volume]"
   ]
  },
  {
   "cell_type": "code",
   "execution_count": 7,
   "metadata": {
    "collapsed": true
   },
   "outputs": [],
   "source": [
    "time_series = pd.DataFrame()\n",
    "time_series['Name'] = [i for i in names]\n",
    "time_series['Market Cap'] = [i[0] for i in marketcap]\n",
    "time_series['Price'] = [i[0] for i in price]\n",
    "time_series['Volume traded in the last 24 hours'] = [i[0] for i in volume]"
   ]
  },
  {
   "cell_type": "code",
   "execution_count": 8,
   "metadata": {
    "collapsed": true
   },
   "outputs": [],
   "source": [
    "time_series.to_csv('market_info.csv')"
   ]
  },
  {
   "cell_type": "code",
   "execution_count": 9,
   "metadata": {
    "collapsed": true
   },
   "outputs": [],
   "source": [
    "links = soup.find_all(href=re.compile(\"historical-data\"))"
   ]
  },
  {
   "cell_type": "code",
   "execution_count": 10,
   "metadata": {
    "collapsed": true
   },
   "outputs": [],
   "source": [
    "def download_crypto(name):\n",
    "    templink = 'https://coinmarketcap.com/currencies/' + name + '/historical-data/'\n",
    "    website = requests.get(templink)\n",
    "    new_soup = bs.BeautifulSoup(website.content, features='html.parser') \n",
    "    name = re.findall('currencies/(.*?)/', templink)[0]\n",
    "    dates=[i.text for i in new_soup.find_all('td', class_='text-left')]\n",
    "    opens = new_soup.find_all(\"td\")[1::7]\n",
    "    high = new_soup.find_all(\"td\")[2::7]\n",
    "    low = new_soup.find_all(\"td\")[3::7]\n",
    "    close = new_soup.find_all(\"td\")[4::7]\n",
    "    volume = new_soup.find_all(\"td\")[5::7]\n",
    "    market_cap = new_soup.find_all(\"td\")[6::7]\n",
    "    tbl = pd.DataFrame()\n",
    "    tbl['name'] = [name for i in range(len(opens))]\n",
    "    tbl['date'] = dates\n",
    "    tbl['opens'] = [float(re.sub(',', '', i.text)) for i in opens]\n",
    "    tbl['high'] = [float(re.sub(',', '', i.text)) for i in high]\n",
    "    tbl['low'] = [float(re.sub(',', '', i.text)) for i in low]\n",
    "    tbl['close'] = [float(re.sub(',', '', i.text)) for i in close]\n",
    "    tbl['volume'] = [float(re.sub(',', '', i.text)) for i in volume]\n",
    "    try:\n",
    "        tbl['market_cap'] = [float(re.sub(',', '', i.text)) for i in market_cap]\n",
    "    except:\n",
    "        tbl['market_cap'] = [np.nan for i in market_cap]\n",
    "    print(tbl)\n",
    "    tbl.to_csv(name+'.csv')"
   ]
  },
  {
   "cell_type": "code",
   "execution_count": 11,
   "metadata": {},
   "outputs": [
    {
     "name": "stdout",
     "output_type": "stream",
     "text": [
      "       name          date    opens     high      low    close        volume  \\\n",
      "0   bitcoin  Dec 02, 2018  4200.73  4301.52  4110.98  4139.88  5.262698e+09   \n",
      "1   bitcoin  Dec 01, 2018  4024.46  4309.38  3969.71  4214.67  5.375314e+09   \n",
      "2   bitcoin  Nov 30, 2018  4289.09  4322.98  3942.82  4017.27  6.048017e+09   \n",
      "3   bitcoin  Nov 29, 2018  4269.00  4413.02  4145.77  4278.85  6.503348e+09   \n",
      "4   bitcoin  Nov 28, 2018  3822.47  4385.90  3822.47  4257.42  7.280280e+09   \n",
      "5   bitcoin  Nov 27, 2018  3765.95  3862.96  3661.01  3820.72  5.998720e+09   \n",
      "6   bitcoin  Nov 26, 2018  4015.07  4107.14  3643.92  3779.13  6.476900e+09   \n",
      "7   bitcoin  Nov 25, 2018  3880.78  4120.87  3585.06  4009.97  6.825640e+09   \n",
      "8   bitcoin  Nov 24, 2018  4347.69  4413.09  3795.16  3880.76  4.679500e+09   \n",
      "9   bitcoin  Nov 23, 2018  4360.70  4396.42  4195.68  4347.11  4.871490e+09   \n",
      "10  bitcoin  Nov 22, 2018  4611.57  4629.64  4365.64  4365.94  4.569370e+09   \n",
      "11  bitcoin  Nov 21, 2018  4465.54  4675.73  4343.98  4602.17  6.120120e+09   \n",
      "12  bitcoin  Nov 20, 2018  4863.93  4951.61  4272.11  4451.87  8.428290e+09   \n",
      "13  bitcoin  Nov 19, 2018  5620.78  5620.78  4842.91  4871.49  7.039560e+09   \n",
      "14  bitcoin  Nov 18, 2018  5559.74  5653.61  5559.74  5623.54  4.159680e+09   \n",
      "15  bitcoin  Nov 17, 2018  5578.58  5578.58  5519.56  5554.33  4.303150e+09   \n",
      "16  bitcoin  Nov 16, 2018  5645.32  5657.02  5498.94  5575.55  5.279320e+09   \n",
      "17  bitcoin  Nov 15, 2018  5736.15  5774.82  5358.38  5648.03  7.032140e+09   \n",
      "18  bitcoin  Nov 14, 2018  6351.24  6371.55  5544.09  5738.35  7.398940e+09   \n",
      "19  bitcoin  Nov 13, 2018  6373.19  6395.27  6342.67  6359.49  4.503800e+09   \n",
      "20  bitcoin  Nov 12, 2018  6411.76  6434.21  6360.47  6371.27  4.295770e+09   \n",
      "21  bitcoin  Nov 11, 2018  6413.63  6423.25  6350.17  6411.27  3.939060e+09   \n",
      "22  bitcoin  Nov 10, 2018  6386.13  6437.28  6385.31  6409.22  3.705320e+09   \n",
      "23  bitcoin  Nov 09, 2018  6442.60  6456.46  6373.37  6385.62  4.346820e+09   \n",
      "24  bitcoin  Nov 08, 2018  6522.27  6536.92  6438.53  6453.72  4.665260e+09   \n",
      "25  bitcoin  Nov 07, 2018  6468.50  6552.16  6468.31  6530.14  4.941260e+09   \n",
      "26  bitcoin  Nov 06, 2018  6433.38  6463.55  6408.16  6461.01  4.700040e+09   \n",
      "27  bitcoin  Nov 05, 2018  6363.62  6480.59  6363.62  6419.66  4.174800e+09   \n",
      "28  bitcoin  Nov 04, 2018  6365.47  6388.63  6294.57  6376.13  4.390020e+09   \n",
      "29  bitcoin  Nov 03, 2018  6387.24  6400.07  6342.37  6361.26  3.658640e+09   \n",
      "\n",
      "      market_cap  \n",
      "0   7.205049e+10  \n",
      "1   7.334619e+10  \n",
      "2   6.990464e+10  \n",
      "3   7.445102e+10  \n",
      "4   7.407256e+10  \n",
      "5   6.646897e+10  \n",
      "6   6.573929e+10  \n",
      "7   6.974927e+10  \n",
      "8   6.749563e+10  \n",
      "9   7.559885e+10  \n",
      "10  7.591944e+10  \n",
      "11  8.002017e+10  \n",
      "12  7.740104e+10  \n",
      "13  8.468854e+10  \n",
      "14  9.775371e+10  \n",
      "15  9.654210e+10  \n",
      "16  9.690083e+10  \n",
      "17  9.815161e+10  \n",
      "18  9.971208e+10  \n",
      "19  1.104945e+11  \n",
      "20  1.106897e+11  \n",
      "21  1.113735e+11  \n",
      "22  1.113261e+11  \n",
      "23  1.109058e+11  \n",
      "24  1.120784e+11  \n",
      "25  1.133956e+11  \n",
      "26  1.120956e+11  \n",
      "27  1.114562e+11  \n",
      "28  1.106892e+11  \n",
      "29  1.104212e+11  \n"
     ]
    }
   ],
   "source": [
    "download_crypto('bitcoin')"
   ]
  },
  {
   "cell_type": "code",
   "execution_count": 166,
   "metadata": {},
   "outputs": [
    {
     "name": "stdout",
     "output_type": "stream",
     "text": [
      "       name          date     opens      high       low     close    volume  \\\n",
      "0   boscoin  Nov 26, 2018  0.071495  0.074501  0.065156  0.070068   17102.0   \n",
      "1   boscoin  Nov 25, 2018  0.070495  0.075046  0.064747  0.071287   49003.0   \n",
      "2   boscoin  Nov 24, 2018  0.075125  0.083533  0.069402  0.071822   52232.0   \n",
      "3   boscoin  Nov 23, 2018  0.080794  0.084717  0.068601  0.075179  168272.0   \n",
      "4   boscoin  Nov 22, 2018  0.090218  0.093395  0.076612  0.076612   48303.0   \n",
      "5   boscoin  Nov 21, 2018  0.077818  0.092000  0.073900  0.091000  107663.0   \n",
      "6   boscoin  Nov 20, 2018  0.081330  0.088388  0.070758  0.077712   85459.0   \n",
      "7   boscoin  Nov 19, 2018  0.116037  0.116754  0.081548  0.082705  326364.0   \n",
      "8   boscoin  Nov 18, 2018  0.101209  0.116225  0.099247  0.115958  130885.0   \n",
      "9   boscoin  Nov 17, 2018  0.097372  0.110949  0.095078  0.100933   86340.0   \n",
      "10  boscoin  Nov 16, 2018  0.091807  0.100839  0.091807  0.096679  284088.0   \n",
      "11  boscoin  Nov 15, 2018  0.088966  0.093392  0.084075  0.091752  260489.0   \n",
      "12  boscoin  Nov 14, 2018  0.106191  0.109574  0.082961  0.088573  128985.0   \n",
      "13  boscoin  Nov 13, 2018  0.100272  0.110203  0.095065  0.106482  236350.0   \n",
      "14  boscoin  Nov 12, 2018  0.113905  0.118511  0.096401  0.101844  422916.0   \n",
      "15  boscoin  Nov 11, 2018  0.125656  0.131346  0.112995  0.113410  512458.0   \n",
      "16  boscoin  Nov 10, 2018  0.120281  0.136101  0.117820  0.126297  487488.0   \n",
      "17  boscoin  Nov 09, 2018  0.113553  0.126440  0.104399  0.120307  415625.0   \n",
      "18  boscoin  Nov 08, 2018  0.092412  0.121414  0.092261  0.116831  432143.0   \n",
      "19  boscoin  Nov 07, 2018  0.074200  0.099354  0.073329  0.092455  300141.0   \n",
      "20  boscoin  Nov 06, 2018  0.073950  0.076082  0.072416  0.074183   83196.0   \n",
      "21  boscoin  Nov 05, 2018  0.069527  0.075986  0.068068  0.073695   94814.0   \n",
      "22  boscoin  Nov 04, 2018  0.070250  0.074119  0.064091  0.069501  111242.0   \n",
      "23  boscoin  Nov 03, 2018  0.057922  0.077474  0.057739  0.070250  224887.0   \n",
      "24  boscoin  Nov 02, 2018  0.049136  0.059613  0.045287  0.057920  185051.0   \n",
      "25  boscoin  Nov 01, 2018  0.048328  0.049624  0.047751  0.049137   72641.0   \n",
      "26  boscoin  Oct 31, 2018  0.046758  0.051106  0.045979  0.048368   86931.0   \n",
      "27  boscoin  Oct 30, 2018  0.049166  0.050139  0.046504  0.046769   60534.0   \n",
      "28  boscoin  Oct 29, 2018  0.050392  0.053825  0.047962  0.049199   24335.0   \n",
      "29  boscoin  Oct 28, 2018  0.050132  0.050796  0.049045  0.050583   77821.0   \n",
      "\n",
      "    market_cap  \n",
      "0   32009778.0  \n",
      "1   32566801.0  \n",
      "2   32811118.0  \n",
      "3   34344543.0  \n",
      "4   34999148.0  \n",
      "5   41572281.0  \n",
      "6   35501762.0  \n",
      "7   37782849.0  \n",
      "8   52974108.0  \n",
      "9   46110106.0  \n",
      "10  44166851.0  \n",
      "11  41915869.0  \n",
      "12  40463487.0  \n",
      "13  48645104.0  \n",
      "14  46526286.0  \n",
      "15  51810083.0  \n",
      "16  57697364.0  \n",
      "17  54960900.0  \n",
      "18  53372928.0  \n",
      "19  42237255.0  \n",
      "20  33959274.0  \n",
      "21  33740427.0  \n",
      "22  31820480.0  \n",
      "23  32163172.0  \n",
      "24  26518020.0  \n",
      "25  22496640.0  \n",
      "26  22144836.0  \n",
      "27  21412615.0  \n",
      "28  22525163.0  \n",
      "29  23158903.0  \n"
     ]
    }
   ],
   "source": [
    "download_crypto('boscoin')"
   ]
  },
  {
   "cell_type": "code",
   "execution_count": 101,
   "metadata": {},
   "outputs": [
    {
     "data": {
      "text/plain": [
       "['/currencies/bitcoin/historical-data/',\n",
       " '/currencies/ripple/historical-data/',\n",
       " '/currencies/ethereum/historical-data/',\n",
       " '/currencies/bitcoin-cash/historical-data/',\n",
       " '/currencies/eos/historical-data/',\n",
       " '/currencies/stellar/historical-data/',\n",
       " '/currencies/tether/historical-data/',\n",
       " '/currencies/litecoin/historical-data/',\n",
       " '/currencies/bitcoin-sv/historical-data/',\n",
       " '/currencies/cardano/historical-data/',\n",
       " '/currencies/monero/historical-data/',\n",
       " '/currencies/tron/historical-data/',\n",
       " '/currencies/dash/historical-data/',\n",
       " '/currencies/iota/historical-data/',\n",
       " '/currencies/binance-coin/historical-data/',\n",
       " '/currencies/nem/historical-data/',\n",
       " '/currencies/ethereum-classic/historical-data/',\n",
       " '/currencies/neo/historical-data/',\n",
       " '/currencies/zcash/historical-data/',\n",
       " '/currencies/tezos/historical-data/',\n",
       " '/currencies/bitcoin-gold/historical-data/',\n",
       " '/currencies/dogecoin/historical-data/',\n",
       " '/currencies/vechain/historical-data/',\n",
       " '/currencies/maker/historical-data/',\n",
       " '/currencies/ontology/historical-data/',\n",
       " '/currencies/omisego/historical-data/',\n",
       " '/currencies/0x/historical-data/',\n",
       " '/currencies/trueusd/historical-data/',\n",
       " '/currencies/decred/historical-data/',\n",
       " '/currencies/qtum/historical-data/',\n",
       " '/currencies/usd-coin/historical-data/',\n",
       " '/currencies/basic-attention-token/historical-data/',\n",
       " '/currencies/bitcoin-diamond/historical-data/',\n",
       " '/currencies/lisk/historical-data/',\n",
       " '/currencies/bytecoin-bcn/historical-data/',\n",
       " '/currencies/paxos-standard-token/historical-data/',\n",
       " '/currencies/aeternity/historical-data/',\n",
       " '/currencies/nano/historical-data/',\n",
       " '/currencies/bitshares/historical-data/',\n",
       " '/currencies/digibyte/historical-data/',\n",
       " '/currencies/aurora/historical-data/',\n",
       " '/currencies/zilliqa/historical-data/',\n",
       " '/currencies/icon/historical-data/',\n",
       " '/currencies/steem/historical-data/',\n",
       " '/currencies/waves/historical-data/',\n",
       " '/currencies/siacoin/historical-data/',\n",
       " '/currencies/bytom/historical-data/',\n",
       " '/currencies/chainlink/historical-data/',\n",
       " '/currencies/factom/historical-data/',\n",
       " '/currencies/pundi-x/historical-data/',\n",
       " '/currencies/augur/historical-data/',\n",
       " '/currencies/verge/historical-data/',\n",
       " '/currencies/golem-network-tokens/historical-data/',\n",
       " '/currencies/populous/historical-data/',\n",
       " '/currencies/maidsafecoin/historical-data/',\n",
       " '/currencies/qash/historical-data/',\n",
       " '/currencies/holo/historical-data/',\n",
       " '/currencies/electroneum/historical-data/',\n",
       " '/currencies/cryptonex/historical-data/',\n",
       " '/currencies/stratis/historical-data/',\n",
       " '/currencies/revain/historical-data/',\n",
       " '/currencies/status/historical-data/',\n",
       " '/currencies/ardor/historical-data/',\n",
       " '/currencies/komodo/historical-data/',\n",
       " '/currencies/metaverse/historical-data/',\n",
       " '/currencies/dai/historical-data/',\n",
       " '/currencies/nexo/historical-data/',\n",
       " '/currencies/wax/historical-data/',\n",
       " '/currencies/decentraland/historical-data/',\n",
       " '/currencies/iostoken/historical-data/',\n",
       " '/currencies/kucoin-shares/historical-data/',\n",
       " '/currencies/huobi-token/historical-data/',\n",
       " '/currencies/odem/historical-data/',\n",
       " '/currencies/monacoin/historical-data/',\n",
       " '/currencies/insight-chain/historical-data/',\n",
       " '/currencies/waltonchain/historical-data/',\n",
       " '/currencies/moac/historical-data/',\n",
       " '/currencies/ravencoin/historical-data/',\n",
       " '/currencies/mobilego/historical-data/',\n",
       " '/currencies/sirin-labs-token/historical-data/',\n",
       " '/currencies/ark/historical-data/',\n",
       " '/currencies/wanchain/historical-data/',\n",
       " '/currencies/gxchain/historical-data/',\n",
       " '/currencies/quarkchain/historical-data/',\n",
       " '/currencies/mithril/historical-data/',\n",
       " '/currencies/pivx/historical-data/',\n",
       " '/currencies/hypercash/historical-data/',\n",
       " '/currencies/polymath-network/historical-data/',\n",
       " '/currencies/bancor/historical-data/',\n",
       " '/currencies/theta-token/historical-data/',\n",
       " '/currencies/mixin/historical-data/',\n",
       " '/currencies/reddcoin/historical-data/',\n",
       " '/currencies/digixdao/historical-data/',\n",
       " '/currencies/loopring/historical-data/',\n",
       " '/currencies/dentacoin/historical-data/',\n",
       " '/currencies/veritaseum/historical-data/',\n",
       " '/currencies/aion/historical-data/',\n",
       " '/currencies/crypto-com/historical-data/',\n",
       " '/currencies/linkey/historical-data/',\n",
       " '/currencies/boscoin/historical-data/']"
      ]
     },
     "execution_count": 101,
     "metadata": {},
     "output_type": "execute_result"
    }
   ],
   "source": [
    "names = [i.get('href') for i in links]\n",
    "names"
   ]
  },
  {
   "cell_type": "code",
   "execution_count": 18,
   "metadata": {},
   "outputs": [
    {
     "data": {
      "text/plain": [
       "['/currencies/bitcoin/historical-data/',\n",
       " '/currencies/ripple/historical-data/',\n",
       " '/currencies/ethereum/historical-data/',\n",
       " '/currencies/bitcoin-cash/historical-data/',\n",
       " '/currencies/eos/historical-data/',\n",
       " '/currencies/stellar/historical-data/',\n",
       " '/currencies/tether/historical-data/',\n",
       " '/currencies/litecoin/historical-data/',\n",
       " '/currencies/bitcoin-sv/historical-data/',\n",
       " '/currencies/cardano/historical-data/',\n",
       " '/currencies/monero/historical-data/',\n",
       " '/currencies/tron/historical-data/',\n",
       " '/currencies/dash/historical-data/',\n",
       " '/currencies/iota/historical-data/',\n",
       " '/currencies/binance-coin/historical-data/',\n",
       " '/currencies/nem/historical-data/',\n",
       " '/currencies/ethereum-classic/historical-data/',\n",
       " '/currencies/neo/historical-data/',\n",
       " '/currencies/zcash/historical-data/',\n",
       " '/currencies/tezos/historical-data/',\n",
       " '/currencies/bitcoin-gold/historical-data/',\n",
       " '/currencies/dogecoin/historical-data/',\n",
       " '/currencies/vechain/historical-data/',\n",
       " '/currencies/maker/historical-data/',\n",
       " '/currencies/ontology/historical-data/',\n",
       " '/currencies/omisego/historical-data/',\n",
       " '/currencies/0x/historical-data/',\n",
       " '/currencies/trueusd/historical-data/',\n",
       " '/currencies/decred/historical-data/',\n",
       " '/currencies/qtum/historical-data/',\n",
       " '/currencies/usd-coin/historical-data/',\n",
       " '/currencies/basic-attention-token/historical-data/',\n",
       " '/currencies/bitcoin-diamond/historical-data/',\n",
       " '/currencies/lisk/historical-data/',\n",
       " '/currencies/bytecoin-bcn/historical-data/',\n",
       " '/currencies/paxos-standard-token/historical-data/',\n",
       " '/currencies/aeternity/historical-data/',\n",
       " '/currencies/nano/historical-data/',\n",
       " '/currencies/bitshares/historical-data/',\n",
       " '/currencies/digibyte/historical-data/',\n",
       " '/currencies/aurora/historical-data/',\n",
       " '/currencies/zilliqa/historical-data/',\n",
       " '/currencies/icon/historical-data/',\n",
       " '/currencies/steem/historical-data/',\n",
       " '/currencies/waves/historical-data/',\n",
       " '/currencies/siacoin/historical-data/',\n",
       " '/currencies/bytom/historical-data/',\n",
       " '/currencies/chainlink/historical-data/',\n",
       " '/currencies/factom/historical-data/',\n",
       " '/currencies/pundi-x/historical-data/',\n",
       " '/currencies/augur/historical-data/',\n",
       " '/currencies/verge/historical-data/',\n",
       " '/currencies/golem-network-tokens/historical-data/',\n",
       " '/currencies/populous/historical-data/',\n",
       " '/currencies/maidsafecoin/historical-data/',\n",
       " '/currencies/qash/historical-data/',\n",
       " '/currencies/holo/historical-data/',\n",
       " '/currencies/electroneum/historical-data/',\n",
       " '/currencies/cryptonex/historical-data/',\n",
       " '/currencies/stratis/historical-data/',\n",
       " '/currencies/revain/historical-data/',\n",
       " '/currencies/status/historical-data/',\n",
       " '/currencies/ardor/historical-data/',\n",
       " '/currencies/komodo/historical-data/',\n",
       " '/currencies/metaverse/historical-data/',\n",
       " '/currencies/dai/historical-data/',\n",
       " '/currencies/nexo/historical-data/',\n",
       " '/currencies/wax/historical-data/',\n",
       " '/currencies/decentraland/historical-data/',\n",
       " '/currencies/iostoken/historical-data/',\n",
       " '/currencies/kucoin-shares/historical-data/',\n",
       " '/currencies/huobi-token/historical-data/',\n",
       " '/currencies/odem/historical-data/',\n",
       " '/currencies/monacoin/historical-data/',\n",
       " '/currencies/insight-chain/historical-data/',\n",
       " '/currencies/waltonchain/historical-data/',\n",
       " '/currencies/moac/historical-data/',\n",
       " '/currencies/ravencoin/historical-data/',\n",
       " '/currencies/mobilego/historical-data/',\n",
       " '/currencies/sirin-labs-token/historical-data/',\n",
       " '/currencies/ark/historical-data/',\n",
       " '/currencies/wanchain/historical-data/',\n",
       " '/currencies/gxchain/historical-data/',\n",
       " '/currencies/quarkchain/historical-data/',\n",
       " '/currencies/mithril/historical-data/',\n",
       " '/currencies/pivx/historical-data/',\n",
       " '/currencies/hypercash/historical-data/',\n",
       " '/currencies/polymath-network/historical-data/',\n",
       " '/currencies/bancor/historical-data/',\n",
       " '/currencies/theta-token/historical-data/',\n",
       " '/currencies/mixin/historical-data/',\n",
       " '/currencies/reddcoin/historical-data/',\n",
       " '/currencies/digixdao/historical-data/',\n",
       " '/currencies/loopring/historical-data/',\n",
       " '/currencies/dentacoin/historical-data/',\n",
       " '/currencies/veritaseum/historical-data/',\n",
       " '/currencies/aion/historical-data/',\n",
       " '/currencies/crypto-com/historical-data/',\n",
       " '/currencies/linkey/historical-data/',\n",
       " '/currencies/boscoin/historical-data/']"
      ]
     },
     "execution_count": 18,
     "metadata": {},
     "output_type": "execute_result"
    }
   ],
   "source": [
    "names"
   ]
  },
  {
   "cell_type": "code",
   "execution_count": null,
   "metadata": {
    "collapsed": true
   },
   "outputs": [],
   "source": []
  }
 ],
 "metadata": {
  "kernelspec": {
   "display_name": "Python 3",
   "language": "python",
   "name": "python3"
  },
  "language_info": {
   "codemirror_mode": {
    "name": "ipython",
    "version": 3
   },
   "file_extension": ".py",
   "mimetype": "text/x-python",
   "name": "python",
   "nbconvert_exporter": "python",
   "pygments_lexer": "ipython3",
   "version": "3.6.2"
  }
 },
 "nbformat": 4,
 "nbformat_minor": 2
}
