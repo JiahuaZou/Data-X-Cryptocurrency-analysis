{
 "cells": [
  {
   "cell_type": "markdown",
   "metadata": {},
   "source": [
    "# Data-X Project"
   ]
  },
  {
   "cell_type": "code",
   "execution_count": 1,
   "metadata": {},
   "outputs": [],
   "source": [
    "import csv\n",
    "import re\n",
    "import numpy as np\n",
    "import pandas as pd \n",
    "import matplotlib.pyplot as plt\n",
    "from nltk.corpus import stopwords;"
   ]
  },
  {
   "cell_type": "markdown",
   "metadata": {},
   "source": [
    "## Sentiment Analysis for Cryptocurrency Hashtag on Twitter"
   ]
  },
  {
   "cell_type": "markdown",
   "metadata": {},
   "source": [
    "We will use the VADER (Valence Aware Dictionary and sEntiment Reasoner) lexicon to analyze the sentiment of Cryptocurrency-related tweets. VADER is a lexicon and rule-based sentiment analysis tool that is specifically attuned to sentiments expressed in social media which is great for our usage."
   ]
  },
  {
   "cell_type": "markdown",
   "metadata": {},
   "source": [
    "### 1.Read the files into pandas dataframe \n",
    "\n"
   ]
  },
  {
   "cell_type": "code",
   "execution_count": 2,
   "metadata": {
    "scrolled": false
   },
   "outputs": [
    {
     "data": {
      "text/html": [
       "<div>\n",
       "<style>\n",
       "    .dataframe thead tr:only-child th {\n",
       "        text-align: right;\n",
       "    }\n",
       "\n",
       "    .dataframe thead th {\n",
       "        text-align: left;\n",
       "    }\n",
       "\n",
       "    .dataframe tbody tr th {\n",
       "        vertical-align: top;\n",
       "    }\n",
       "</style>\n",
       "<table border=\"1\" class=\"dataframe\">\n",
       "  <thead>\n",
       "    <tr style=\"text-align: right;\">\n",
       "      <th></th>\n",
       "      <th>Author</th>\n",
       "      <th>Text</th>\n",
       "      <th>Retweet_Count</th>\n",
       "      <th>Timestamp</th>\n",
       "    </tr>\n",
       "  </thead>\n",
       "  <tbody>\n",
       "    <tr>\n",
       "      <th>0</th>\n",
       "      <td>ewin74698177</td>\n",
       "      <td>RT @SolarisCoin: Take a peek @ https://t.co/W8...</td>\n",
       "      <td>49</td>\n",
       "      <td>2018-10-27 23:25:41</td>\n",
       "    </tr>\n",
       "    <tr>\n",
       "      <th>1</th>\n",
       "      <td>thegustians</td>\n",
       "      <td>RT @SolarisCoin: Take a peek @ https://t.co/W8...</td>\n",
       "      <td>49</td>\n",
       "      <td>2018-10-27 23:10:20</td>\n",
       "    </tr>\n",
       "    <tr>\n",
       "      <th>2</th>\n",
       "      <td>frg_x</td>\n",
       "      <td>RT @SolarisCoin: Take a peek @ https://t.co/W8...</td>\n",
       "      <td>49</td>\n",
       "      <td>2018-10-27 23:07:04</td>\n",
       "    </tr>\n",
       "    <tr>\n",
       "      <th>3</th>\n",
       "      <td>TechniCraftCZ</td>\n",
       "      <td>RT @CryptoPepes: CryptoPepes just soft launche...</td>\n",
       "      <td>93</td>\n",
       "      <td>2018-10-27 23:02:48</td>\n",
       "    </tr>\n",
       "    <tr>\n",
       "      <th>4</th>\n",
       "      <td>victordorofeev1</td>\n",
       "      <td>RT @SolarisCoin: Take a peek @ https://t.co/W8...</td>\n",
       "      <td>49</td>\n",
       "      <td>2018-10-27 23:01:47</td>\n",
       "    </tr>\n",
       "  </tbody>\n",
       "</table>\n",
       "</div>"
      ],
      "text/plain": [
       "            Author                                               Text  \\\n",
       "0     ewin74698177  RT @SolarisCoin: Take a peek @ https://t.co/W8...   \n",
       "1      thegustians  RT @SolarisCoin: Take a peek @ https://t.co/W8...   \n",
       "2            frg_x  RT @SolarisCoin: Take a peek @ https://t.co/W8...   \n",
       "3    TechniCraftCZ  RT @CryptoPepes: CryptoPepes just soft launche...   \n",
       "4  victordorofeev1  RT @SolarisCoin: Take a peek @ https://t.co/W8...   \n",
       "\n",
       "   Retweet_Count            Timestamp  \n",
       "0             49  2018-10-27 23:25:41  \n",
       "1             49  2018-10-27 23:10:20  \n",
       "2             49  2018-10-27 23:07:04  \n",
       "3             93  2018-10-27 23:02:48  \n",
       "4             49  2018-10-27 23:01:47  "
      ]
     },
     "execution_count": 2,
     "metadata": {},
     "output_type": "execute_result"
    }
   ],
   "source": [
    "tweets = pd.read_csv(\"bitcoin.csv\")[['Author', 'Text', 'Retweet_Count', 'Timestamp']]\n",
    "tweets.head()"
   ]
  },
  {
   "cell_type": "code",
   "execution_count": 3,
   "metadata": {
    "scrolled": true
   },
   "outputs": [
    {
     "data": {
      "text/html": [
       "<div>\n",
       "<style>\n",
       "    .dataframe thead tr:only-child th {\n",
       "        text-align: right;\n",
       "    }\n",
       "\n",
       "    .dataframe thead th {\n",
       "        text-align: left;\n",
       "    }\n",
       "\n",
       "    .dataframe tbody tr th {\n",
       "        vertical-align: top;\n",
       "    }\n",
       "</style>\n",
       "<table border=\"1\" class=\"dataframe\">\n",
       "  <thead>\n",
       "    <tr style=\"text-align: right;\">\n",
       "      <th></th>\n",
       "      <th>polarity</th>\n",
       "    </tr>\n",
       "    <tr>\n",
       "      <th>0</th>\n",
       "      <th></th>\n",
       "    </tr>\n",
       "  </thead>\n",
       "  <tbody>\n",
       "    <tr>\n",
       "      <th>$:</th>\n",
       "      <td>-1.5</td>\n",
       "    </tr>\n",
       "    <tr>\n",
       "      <th>%)</th>\n",
       "      <td>-0.4</td>\n",
       "    </tr>\n",
       "    <tr>\n",
       "      <th>%-)</th>\n",
       "      <td>-1.5</td>\n",
       "    </tr>\n",
       "    <tr>\n",
       "      <th>&amp;-:</th>\n",
       "      <td>-0.4</td>\n",
       "    </tr>\n",
       "    <tr>\n",
       "      <th>&amp;:</th>\n",
       "      <td>-0.7</td>\n",
       "    </tr>\n",
       "  </tbody>\n",
       "</table>\n",
       "</div>"
      ],
      "text/plain": [
       "     polarity\n",
       "0            \n",
       "$:       -1.5\n",
       "%)       -0.4\n",
       "%-)      -1.5\n",
       "&-:      -0.4\n",
       "&:       -0.7"
      ]
     },
     "execution_count": 3,
     "metadata": {},
     "output_type": "execute_result"
    }
   ],
   "source": [
    "pol = pd.read_table('vader_lexicon.txt', header=None).set_index(0).iloc[:,0]\n",
    "d = {'polarity': pol}\n",
    "sent = pd.DataFrame(data = d)\n",
    "sent.head()"
   ]
  },
  {
   "cell_type": "markdown",
   "metadata": {},
   "source": [
    "### 2. Data cleaning function: \n",
    "Remove urls, mentions, punctuations and stopwords"
   ]
  },
  {
   "cell_type": "code",
   "execution_count": 4,
   "metadata": {},
   "outputs": [],
   "source": [
    "class CleanText():\n",
    "    \n",
    "    def __init__(self, input_text):\n",
    "        self.input_text = input_text\n",
    "    \n",
    "    def remove(self):\n",
    "        remove_mention = re.sub(r'@\\w+', '', self.input_text)\n",
    "        remove_url = re.sub(r'http.?://[^\\s]+[\\s]?', '', remove_mention)\n",
    "        # By compressing the underscore, the emoji is kept as one word\n",
    "        remove_emoji = remove_url.replace('_','')\n",
    "        remove_punctuation = re.sub('[^A-Za-z0-9_\\s]', '', remove_emoji)\n",
    "        lowercase = remove_punctuation.lower()\n",
    "        remove_n = re.sub('[\\n\\r]', '', lowercase)\n",
    "        \n",
    "        return remove_n.replace('rt', '')\n"
   ]
  },
  {
   "cell_type": "code",
   "execution_count": 5,
   "metadata": {
    "scrolled": true
   },
   "outputs": [],
   "source": [
    "clean_tweet = []\n",
    "for tweet in tweets['Text']:\n",
    "    clean_tweet.append(CleanText(tweet).remove())"
   ]
  },
  {
   "cell_type": "code",
   "execution_count": 6,
   "metadata": {
    "scrolled": true
   },
   "outputs": [
    {
     "data": {
      "text/html": [
       "<div>\n",
       "<style>\n",
       "    .dataframe thead tr:only-child th {\n",
       "        text-align: right;\n",
       "    }\n",
       "\n",
       "    .dataframe thead th {\n",
       "        text-align: left;\n",
       "    }\n",
       "\n",
       "    .dataframe tbody tr th {\n",
       "        vertical-align: top;\n",
       "    }\n",
       "</style>\n",
       "<table border=\"1\" class=\"dataframe\">\n",
       "  <thead>\n",
       "    <tr style=\"text-align: right;\">\n",
       "      <th></th>\n",
       "      <th>Author</th>\n",
       "      <th>Retweet_Count</th>\n",
       "      <th>Timestamp</th>\n",
       "      <th>Clean_Text</th>\n",
       "    </tr>\n",
       "  </thead>\n",
       "  <tbody>\n",
       "    <tr>\n",
       "      <th>0</th>\n",
       "      <td>ewin74698177</td>\n",
       "      <td>49</td>\n",
       "      <td>2018-10-27 23:25:41</td>\n",
       "      <td>take a peek  would you like to test it soon ...</td>\n",
       "    </tr>\n",
       "    <tr>\n",
       "      <th>1</th>\n",
       "      <td>thegustians</td>\n",
       "      <td>49</td>\n",
       "      <td>2018-10-27 23:10:20</td>\n",
       "      <td>take a peek  would you like to test it soon ...</td>\n",
       "    </tr>\n",
       "    <tr>\n",
       "      <th>2</th>\n",
       "      <td>frg_x</td>\n",
       "      <td>49</td>\n",
       "      <td>2018-10-27 23:07:04</td>\n",
       "      <td>take a peek  would you like to test it soon ...</td>\n",
       "    </tr>\n",
       "    <tr>\n",
       "      <th>3</th>\n",
       "      <td>TechniCraftCZ</td>\n",
       "      <td>93</td>\n",
       "      <td>2018-10-27 23:02:48</td>\n",
       "      <td>cryptopepes just soft launched on ethereum m...</td>\n",
       "    </tr>\n",
       "    <tr>\n",
       "      <th>4</th>\n",
       "      <td>victordorofeev1</td>\n",
       "      <td>49</td>\n",
       "      <td>2018-10-27 23:01:47</td>\n",
       "      <td>take a peek  would you like to test it soon ...</td>\n",
       "    </tr>\n",
       "  </tbody>\n",
       "</table>\n",
       "</div>"
      ],
      "text/plain": [
       "            Author  Retweet_Count            Timestamp  \\\n",
       "0     ewin74698177             49  2018-10-27 23:25:41   \n",
       "1      thegustians             49  2018-10-27 23:10:20   \n",
       "2            frg_x             49  2018-10-27 23:07:04   \n",
       "3    TechniCraftCZ             93  2018-10-27 23:02:48   \n",
       "4  victordorofeev1             49  2018-10-27 23:01:47   \n",
       "\n",
       "                                          Clean_Text  \n",
       "0    take a peek  would you like to test it soon ...  \n",
       "1    take a peek  would you like to test it soon ...  \n",
       "2    take a peek  would you like to test it soon ...  \n",
       "3    cryptopepes just soft launched on ethereum m...  \n",
       "4    take a peek  would you like to test it soon ...  "
      ]
     },
     "execution_count": 6,
     "metadata": {},
     "output_type": "execute_result"
    }
   ],
   "source": [
    "clean_tweets = tweets.drop(['Text'], axis = 1)\n",
    "clean_tweets['Clean_Text'] = clean_tweet\n",
    "clean_tweets.head()"
   ]
  },
  {
   "cell_type": "markdown",
   "metadata": {},
   "source": [
    "### 3. Tidy format\n",
    "\n",
    "We can see that there are a lot of duplicate texts, which are the retweets. We will remove them and then perform sentiment analysis. \n",
    "\n",
    "Convert the tweets into what's called a tidy format to make the sentiments easier to calculate"
   ]
  },
  {
   "cell_type": "code",
   "execution_count": 33,
   "metadata": {
    "scrolled": false
   },
   "outputs": [
    {
     "data": {
      "text/html": [
       "<div>\n",
       "<style>\n",
       "    .dataframe thead tr:only-child th {\n",
       "        text-align: right;\n",
       "    }\n",
       "\n",
       "    .dataframe thead th {\n",
       "        text-align: left;\n",
       "    }\n",
       "\n",
       "    .dataframe tbody tr th {\n",
       "        vertical-align: top;\n",
       "    }\n",
       "</style>\n",
       "<table border=\"1\" class=\"dataframe\">\n",
       "  <thead>\n",
       "    <tr style=\"text-align: right;\">\n",
       "      <th></th>\n",
       "      <th>Clean_Text</th>\n",
       "    </tr>\n",
       "  </thead>\n",
       "  <tbody>\n",
       "    <tr>\n",
       "      <th>0</th>\n",
       "      <td>take a peek  would you like to test it soon ...</td>\n",
       "    </tr>\n",
       "    <tr>\n",
       "      <th>1</th>\n",
       "      <td>cryptopepes just soft launched on ethereum m...</td>\n",
       "    </tr>\n",
       "    <tr>\n",
       "      <th>2</th>\n",
       "      <td>fiiicoin will be debut in coinegg on at 1300...</td>\n",
       "    </tr>\n",
       "    <tr>\n",
       "      <th>3</th>\n",
       "      <td>cryptocurrency price analysis for bitsend bsd ...</td>\n",
       "    </tr>\n",
       "    <tr>\n",
       "      <th>4</th>\n",
       "      <td>sold  zrxbtc  binance  price 000012225  time 2...</td>\n",
       "    </tr>\n",
       "  </tbody>\n",
       "</table>\n",
       "</div>"
      ],
      "text/plain": [
       "                                          Clean_Text\n",
       "0    take a peek  would you like to test it soon ...\n",
       "1    cryptopepes just soft launched on ethereum m...\n",
       "2    fiiicoin will be debut in coinegg on at 1300...\n",
       "3  cryptocurrency price analysis for bitsend bsd ...\n",
       "4  sold  zrxbtc  binance  price 000012225  time 2..."
      ]
     },
     "execution_count": 33,
     "metadata": {},
     "output_type": "execute_result"
    }
   ],
   "source": [
    "d = list(clean_tweets['Clean_Text'].unique())\n",
    "unique = pd.DataFrame(d)\n",
    "unique.columns = ['Clean_Text']\n",
    "unique.head()"
   ]
  },
  {
   "cell_type": "code",
   "execution_count": 8,
   "metadata": {},
   "outputs": [
    {
     "data": {
      "text/html": [
       "<div>\n",
       "<style>\n",
       "    .dataframe thead tr:only-child th {\n",
       "        text-align: right;\n",
       "    }\n",
       "\n",
       "    .dataframe thead th {\n",
       "        text-align: left;\n",
       "    }\n",
       "\n",
       "    .dataframe tbody tr th {\n",
       "        vertical-align: top;\n",
       "    }\n",
       "</style>\n",
       "<table border=\"1\" class=\"dataframe\">\n",
       "  <thead>\n",
       "    <tr style=\"text-align: right;\">\n",
       "      <th></th>\n",
       "      <th>num</th>\n",
       "      <th>word</th>\n",
       "    </tr>\n",
       "  </thead>\n",
       "  <tbody>\n",
       "    <tr>\n",
       "      <th>0</th>\n",
       "      <td>0</td>\n",
       "      <td>take</td>\n",
       "    </tr>\n",
       "    <tr>\n",
       "      <th>0</th>\n",
       "      <td>1</td>\n",
       "      <td>a</td>\n",
       "    </tr>\n",
       "    <tr>\n",
       "      <th>0</th>\n",
       "      <td>2</td>\n",
       "      <td>peek</td>\n",
       "    </tr>\n",
       "    <tr>\n",
       "      <th>0</th>\n",
       "      <td>3</td>\n",
       "      <td>would</td>\n",
       "    </tr>\n",
       "    <tr>\n",
       "      <th>0</th>\n",
       "      <td>4</td>\n",
       "      <td>you</td>\n",
       "    </tr>\n",
       "  </tbody>\n",
       "</table>\n",
       "</div>"
      ],
      "text/plain": [
       "   num   word\n",
       "0    0   take\n",
       "0    1      a\n",
       "0    2   peek\n",
       "0    3  would\n",
       "0    4    you"
      ]
     },
     "execution_count": 8,
     "metadata": {},
     "output_type": "execute_result"
    }
   ],
   "source": [
    "tidy = pd.DataFrame(unique['Clean_Text'].str.split(expand = True).stack().reset_index(level=1,))\n",
    "tidy.columns = ['num', 'word']\n",
    "tidy.head()"
   ]
  },
  {
   "cell_type": "code",
   "execution_count": 9,
   "metadata": {},
   "outputs": [],
   "source": [
    "sent.reset_index(level=0, inplace=True)"
   ]
  },
  {
   "cell_type": "code",
   "execution_count": 10,
   "metadata": {},
   "outputs": [],
   "source": [
    "sent.columns = ['word', 'polarity']"
   ]
  },
  {
   "cell_type": "code",
   "execution_count": 11,
   "metadata": {},
   "outputs": [
    {
     "data": {
      "text/html": [
       "<div>\n",
       "<style>\n",
       "    .dataframe thead tr:only-child th {\n",
       "        text-align: right;\n",
       "    }\n",
       "\n",
       "    .dataframe thead th {\n",
       "        text-align: left;\n",
       "    }\n",
       "\n",
       "    .dataframe tbody tr th {\n",
       "        vertical-align: top;\n",
       "    }\n",
       "</style>\n",
       "<table border=\"1\" class=\"dataframe\">\n",
       "  <thead>\n",
       "    <tr style=\"text-align: right;\">\n",
       "      <th></th>\n",
       "      <th>polarity</th>\n",
       "    </tr>\n",
       "    <tr>\n",
       "      <th>index</th>\n",
       "      <th></th>\n",
       "    </tr>\n",
       "  </thead>\n",
       "  <tbody>\n",
       "    <tr>\n",
       "      <th>0</th>\n",
       "      <td>5.8</td>\n",
       "    </tr>\n",
       "    <tr>\n",
       "      <th>1</th>\n",
       "      <td>0.5</td>\n",
       "    </tr>\n",
       "    <tr>\n",
       "      <th>6</th>\n",
       "      <td>1.3</td>\n",
       "    </tr>\n",
       "    <tr>\n",
       "      <th>10</th>\n",
       "      <td>0.8</td>\n",
       "    </tr>\n",
       "    <tr>\n",
       "      <th>11</th>\n",
       "      <td>0.8</td>\n",
       "    </tr>\n",
       "  </tbody>\n",
       "</table>\n",
       "</div>"
      ],
      "text/plain": [
       "       polarity\n",
       "index          \n",
       "0           5.8\n",
       "1           0.5\n",
       "6           1.3\n",
       "10          0.8\n",
       "11          0.8"
      ]
     },
     "execution_count": 11,
     "metadata": {},
     "output_type": "execute_result"
    }
   ],
   "source": [
    "polarity = pd.merge(tidy.reset_index(level = -1), sent, on = 'word').groupby('index')[['polarity']].sum()\n",
    "polarity.head()"
   ]
  },
  {
   "cell_type": "code",
   "execution_count": 12,
   "metadata": {},
   "outputs": [],
   "source": [
    "clean_tweets['polarity'] = polarity['polarity']\n",
    "clean_tweets['polarity'] = clean_tweets['polarity'].replace(np.float64('nan'), 0)"
   ]
  },
  {
   "cell_type": "code",
   "execution_count": 13,
   "metadata": {
    "scrolled": true
   },
   "outputs": [
    {
     "data": {
      "text/plain": [
       "0.10191458026509584"
      ]
     },
     "execution_count": 13,
     "metadata": {},
     "output_type": "execute_result"
    }
   ],
   "source": [
    "np.mean(clean_tweets['polarity'])\n",
    "#positive sentiment(> 0.05) in the past one week "
   ]
  },
  {
   "cell_type": "markdown",
   "metadata": {},
   "source": [
    "### 4. Most negative and most positive tweets"
   ]
  },
  {
   "cell_type": "code",
   "execution_count": 14,
   "metadata": {},
   "outputs": [
    {
     "name": "stdout",
     "output_type": "stream",
     "text": [
      "Most negative tweets:\n",
      "\n",
      "   bitcoin market price update xbtgbp  last price 499800  24hour low 490400 high 500000 volume 1708945 xbt\n",
      "\n",
      "   xembuy at koineks and sell at livecoin ratio 100buy at koineks and sell at yobit ratio 1427buy at \n",
      "\n",
      "   liquidated bitmex long on xbtusd 639400   920  0 of avg  20181026 153540bitcoin\n",
      "\n",
      "     xbt bitmex btc bitcoinas the whole world await next btc 000 action i spotted 3 different patterns in play right now on\n",
      "\n",
      "     take a peek  would you like to test it soon and win some xlr1 like and retween this tweet2\n"
     ]
    }
   ],
   "source": [
    "print('Most negative tweets:')\n",
    "for t in clean_tweets.sort_values('polarity').head()['Clean_Text']:\n",
    "    print('\\n  ', t)"
   ]
  },
  {
   "cell_type": "code",
   "execution_count": 15,
   "metadata": {},
   "outputs": [
    {
     "name": "stdout",
     "output_type": "stream",
     "text": [
      "Most positive tweets:\n",
      "\n",
      "     were here today to raise awareness about bitcoin and  dropped by for an interview with our cfocatch us until 1400\n",
      "\n",
      "   xrpbuy at bitexen and sell at poloniex ratio 100bitcoin arbitrage arbitraj arbingtool \n",
      "\n",
      "   btc 648896 up 020 000 in the last hour bitcoin bitsma\n",
      "\n",
      "   bchbuy at bitstamp and sell at yobit ratio 479buy at koinim and sell at yobit ratio 149buy at \n",
      "\n",
      "     ubex  will be listed on lbanktime 1600 oct 22 gmt8buy buy buyubex ai btc bitcoinnews binance alt alt \n"
     ]
    }
   ],
   "source": [
    "print('Most positive tweets:')\n",
    "for t in clean_tweets.sort_values('polarity', ascending=False).head()['Clean_Text']:\n",
    "    print('\\n  ', t)"
   ]
  },
  {
   "cell_type": "markdown",
   "metadata": {},
   "source": [
    "### Tweets that had the most number of retweets"
   ]
  },
  {
   "cell_type": "code",
   "execution_count": 52,
   "metadata": {},
   "outputs": [
    {
     "name": "stdout",
     "output_type": "stream",
     "text": [
      "[ '   2000 stake amp primedice giveaway 11  250 lucky winners will receive 4 and 2 very lucky winners will receive 500  ent'\n",
      " '  i wish i had kept my 1700 btc  006 instead of selling them at 030 now that theyre 800 bitcoin'\n",
      " '  cryptopepes just soft launched on ethereum mainnet  cryptopepes rat race staed     cryptomini'\n",
      " '  send the ravens  lucre token presale will be launched on oct 15th at 000000 utc lucre lcr tokensale ico cryptocu'\n",
      " '  these are my predictions for peak prices in 2019bitcoin 85000vergecurrency 175ethereum 4000litecoin 110']\n"
     ]
    }
   ],
   "source": [
    "print(clean_tweets.sort_values('Retweet_Count', ascending = False)['Clean_Text'].unique()[0:5])"
   ]
  },
  {
   "cell_type": "code",
   "execution_count": null,
   "metadata": {
    "collapsed": true
   },
   "outputs": [],
   "source": []
  },
  {
   "cell_type": "code",
   "execution_count": null,
   "metadata": {
    "collapsed": true
   },
   "outputs": [],
   "source": []
  }
 ],
 "metadata": {
  "kernelspec": {
   "display_name": "Python 3",
   "language": "python",
   "name": "python3"
  },
  "language_info": {
   "codemirror_mode": {
    "name": "ipython",
    "version": 3
   },
   "file_extension": ".py",
   "mimetype": "text/x-python",
   "name": "python",
   "nbconvert_exporter": "python",
   "pygments_lexer": "ipython3",
   "version": "3.6.3"
  }
 },
 "nbformat": 4,
 "nbformat_minor": 2
}
